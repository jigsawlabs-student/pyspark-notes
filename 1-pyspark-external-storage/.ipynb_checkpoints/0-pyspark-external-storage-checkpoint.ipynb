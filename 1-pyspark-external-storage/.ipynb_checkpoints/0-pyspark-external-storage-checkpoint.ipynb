{
 "cells": [
  {
   "cell_type": "markdown",
   "id": "serious-bulgaria",
   "metadata": {},
   "source": [
    "# Spark: In Memory "
   ]
  },
  {
   "cell_type": "markdown",
   "id": "august-criminal",
   "metadata": {},
   "source": [
    "### Starting with Postgres"
   ]
  },
  {
   "cell_type": "markdown",
   "id": "humanitarian-tension",
   "metadata": {},
   "source": [
    "<img src=\"./db_both.jpg\" width=\"40%\">"
   ]
  },
  {
   "cell_type": "markdown",
   "id": "brutal-conversion",
   "metadata": {},
   "source": [
    "* When select"
   ]
  },
  {
   "cell_type": "markdown",
   "id": "devoted-turkey",
   "metadata": {},
   "source": [
    "### By Contrast Spark"
   ]
  },
  {
   "cell_type": "markdown",
   "id": "aquatic-narrow",
   "metadata": {},
   "source": [
    "> <img src=\"./data_s3.png\" width=\"60%\">"
   ]
  },
  {
   "cell_type": "markdown",
   "id": "forced-coverage",
   "metadata": {},
   "source": [
    "And read it in when need to process."
   ]
  },
  {
   "cell_type": "markdown",
   "id": "recorded-lawsuit",
   "metadata": {},
   "source": [
    "> <img src=\"./s3_to_movies.jpg\" width=\"80%\">"
   ]
  },
  {
   "cell_type": "markdown",
   "id": "suspected-tourism",
   "metadata": {},
   "source": [
    "### Diving In"
   ]
  },
  {
   "cell_type": "code",
   "execution_count": 1,
   "id": "selective-showcase",
   "metadata": {},
   "outputs": [],
   "source": [
    "from pyspark.sql import SparkSession"
   ]
  },
  {
   "cell_type": "code",
   "execution_count": 2,
   "id": "physical-fundamental",
   "metadata": {},
   "outputs": [],
   "source": [
    "spark = SparkSession.builder.appName(\"films\").master(\"local[2]\").getOrCreate()"
   ]
  },
  {
   "cell_type": "code",
   "execution_count": 3,
   "id": "creative-senior",
   "metadata": {},
   "outputs": [
    {
     "data": {
      "text/html": [
       "\n",
       "            <div>\n",
       "                <p><b>SparkSession - in-memory</b></p>\n",
       "                \n",
       "        <div>\n",
       "            <p><b>SparkContext</b></p>\n",
       "\n",
       "            <p><a href=\"http://192.168.1.122:4041\">Spark UI</a></p>\n",
       "\n",
       "            <dl>\n",
       "              <dt>Version</dt>\n",
       "                <dd><code>v3.1.1</code></dd>\n",
       "              <dt>Master</dt>\n",
       "                <dd><code>local[2]</code></dd>\n",
       "              <dt>AppName</dt>\n",
       "                <dd><code>films</code></dd>\n",
       "            </dl>\n",
       "        </div>\n",
       "        \n",
       "            </div>\n",
       "        "
      ],
      "text/plain": [
       "<pyspark.sql.session.SparkSession at 0x1211af040>"
      ]
     },
     "execution_count": 3,
     "metadata": {},
     "output_type": "execute_result"
    }
   ],
   "source": [
    "spark"
   ]
  },
  {
   "cell_type": "code",
   "execution_count": null,
   "id": "objective-clerk",
   "metadata": {},
   "outputs": [],
   "source": []
  },
  {
   "cell_type": "markdown",
   "id": "consecutive-league",
   "metadata": {},
   "source": [
    "Finally, we'll read in data from s3 using pandas."
   ]
  },
  {
   "cell_type": "code",
   "execution_count": 4,
   "id": "first-source",
   "metadata": {},
   "outputs": [],
   "source": [
    "import pandas as pd\n",
    "url = \"s3://jigsaw-labs-student/imdb_movies.csv\"\n",
    "df = pd.read_csv(url)"
   ]
  },
  {
   "cell_type": "code",
   "execution_count": 7,
   "id": "atlantic-queen",
   "metadata": {},
   "outputs": [],
   "source": [
    "movies_df = spark.createDataFrame(df.astype(str))"
   ]
  },
  {
   "cell_type": "code",
   "execution_count": 8,
   "id": "severe-vehicle",
   "metadata": {},
   "outputs": [
    {
     "data": {
      "text/plain": [
       "[Row(title='Avatar', genre='Action', budget='237000000', runtime='162.0', year='2009', month='12', revenue='2787965087')]"
      ]
     },
     "execution_count": 8,
     "metadata": {},
     "output_type": "execute_result"
    }
   ],
   "source": [
    "movies_df.take(1)"
   ]
  },
  {
   "cell_type": "markdown",
   "id": "unexpected-brown",
   "metadata": {},
   "source": [
    "> <img src=\"./s3_to_movies.jpg\" width=\"60%\">"
   ]
  },
  {
   "cell_type": "markdown",
   "id": "periodic-mortality",
   "metadata": {},
   "source": [
    "### The Benefits of In Memory Storage "
   ]
  },
  {
   "cell_type": "markdown",
   "id": "fancy-hotel",
   "metadata": {},
   "source": [
    "1. Cheaper storage\n",
    "    * costs less money if we store on S3 vs Postgres.\n",
    "    * So...can store data that has relatively low value, or even unknown value."
   ]
  },
  {
   "cell_type": "markdown",
   "id": "muslim-server",
   "metadata": {},
   "source": [
    "2. ELT"
   ]
  },
  {
   "cell_type": "code",
   "execution_count": 38,
   "id": "activated-stick",
   "metadata": {},
   "outputs": [],
   "source": [
    "import requests\n",
    "url = \"https://data.cityofnewyork.us/resource/biws-g3hs.json?pulocationid=186\"\n",
    "response = requests.get(url)\n",
    "\n",
    "taxi_rides = response.json()"
   ]
  },
  {
   "cell_type": "code",
   "execution_count": 39,
   "id": "commercial-census",
   "metadata": {},
   "outputs": [
    {
     "data": {
      "text/plain": [
       "[{'vendorid': '1',\n",
       "  'tpep_pickup_datetime': '2017-01-09T11:32:27.000',\n",
       "  'tpep_dropoff_datetime': '2017-01-09T11:36:01.000',\n",
       "  'passenger_count': '1',\n",
       "  'trip_distance': '0.90',\n",
       "  'ratecodeid': '1',\n",
       "  'store_and_fwd_flag': 'N',\n",
       "  'pulocationid': '186',\n",
       "  'dolocationid': '234',\n",
       "  'payment_type': '1',\n",
       "  'fare_amount': '5',\n",
       "  'extra': '0',\n",
       "  'mta_tax': '0.5',\n",
       "  'tip_amount': '1.45',\n",
       "  'tolls_amount': '0',\n",
       "  'improvement_surcharge': '0.3',\n",
       "  'total_amount': '7.25'}]"
      ]
     },
     "execution_count": 39,
     "metadata": {},
     "output_type": "execute_result"
    }
   ],
   "source": [
    "taxi_rides[:1]"
   ]
  },
  {
   "cell_type": "markdown",
   "id": "brazilian-parish",
   "metadata": {},
   "source": [
    "A. Postgres"
   ]
  },
  {
   "cell_type": "markdown",
   "id": "critical-airport",
   "metadata": {},
   "source": [
    "B. Pyspark"
   ]
  },
  {
   "cell_type": "markdown",
   "id": "welsh-democracy",
   "metadata": {},
   "source": [
    "```python\n",
    "import pandas as pd\n",
    "df = pd.read_csv(\"s3://jigsaw-labs/imdb_movies.csv\")\n",
    "movies_df = spark.createDataFrame(df.astype(str))\n",
    "movies_df.take(1)\n",
    "```"
   ]
  },
  {
   "cell_type": "markdown",
   "id": "placed-mauritius",
   "metadata": {},
   "source": [
    "3. Memory intensive computations"
   ]
  },
  {
   "cell_type": "markdown",
   "id": "individual-aircraft",
   "metadata": {},
   "source": [
    "* Certain operations really requires having large amounts of data available in memory -- so having this in ability for in memory storage valuable."
   ]
  },
  {
   "cell_type": "markdown",
   "id": "religious-suicide",
   "metadata": {},
   "source": [
    "### But there's still local some storage"
   ]
  },
  {
   "cell_type": "markdown",
   "id": "published-marks",
   "metadata": {},
   "source": [
    "Even though Spark performs much of it's computation in memory, and primarily uses in memory storage, Spark nodes still do use local disks for data that does not fit into RAM, and to store intermediate output in a complex operation."
   ]
  },
  {
   "cell_type": "markdown",
   "id": "signal-sector",
   "metadata": {},
   "source": [
    "> But this storage on disk is quite minor as compared to most databases.  "
   ]
  },
  {
   "cell_type": "markdown",
   "id": "increasing-producer",
   "metadata": {},
   "source": [
    "So let's update our diagram to more accurately reflect the hardware spark."
   ]
  },
  {
   "cell_type": "markdown",
   "id": "supported-thirty",
   "metadata": {},
   "source": [
    "> <img src='./pyspark-components.jpg' width=\"50%\">"
   ]
  },
  {
   "cell_type": "markdown",
   "id": "professional-chair",
   "metadata": {},
   "source": [
    "So even though there is technically in local storage to disk Spark, what distinguishes Spark is it's reliance on in memory storage and computation."
   ]
  },
  {
   "cell_type": "markdown",
   "id": "timely-insertion",
   "metadata": {},
   "source": [
    "[Resources](https://runawayhorse001.github.io/LearningApacheSpark/)"
   ]
  }
 ],
 "metadata": {
  "kernelspec": {
   "display_name": "Python 3",
   "language": "python",
   "name": "python3"
  },
  "language_info": {
   "codemirror_mode": {
    "name": "ipython",
    "version": 3
   },
   "file_extension": ".py",
   "mimetype": "text/x-python",
   "name": "python",
   "nbconvert_exporter": "python",
   "pygments_lexer": "ipython3",
   "version": "3.8.6"
  }
 },
 "nbformat": 4,
 "nbformat_minor": 5
}
