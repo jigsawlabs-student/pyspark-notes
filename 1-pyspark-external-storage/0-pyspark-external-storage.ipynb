{
 "cells": [
  {
   "cell_type": "markdown",
   "id": "romance-masters",
   "metadata": {},
   "source": [
    "# Spark: In Memory "
   ]
  },
  {
   "cell_type": "markdown",
   "id": "liberal-layer",
   "metadata": {},
   "source": [
    "### Starting with Postgres"
   ]
  },
  {
   "cell_type": "markdown",
   "id": "bibliographic-millennium",
   "metadata": {},
   "source": [
    "<img src=\"./db_both.jpg\" width=\"40%\">"
   ]
  },
  {
   "cell_type": "markdown",
   "id": "crazy-inspiration",
   "metadata": {},
   "source": [
    "* When select"
   ]
  },
  {
   "cell_type": "markdown",
   "id": "talented-prize",
   "metadata": {},
   "source": [
    "### By Contrast Spark"
   ]
  },
  {
   "cell_type": "markdown",
   "id": "elect-representative",
   "metadata": {},
   "source": [
    "> <img src=\"./data_s3.png\" width=\"60%\">"
   ]
  },
  {
   "cell_type": "markdown",
   "id": "fitting-occasions",
   "metadata": {},
   "source": [
    "And read it in when need to process."
   ]
  },
  {
   "cell_type": "markdown",
   "id": "civilian-footage",
   "metadata": {},
   "source": [
    "> <img src=\"./s3_to_movies.jpg\" width=\"80%\">"
   ]
  },
  {
   "cell_type": "markdown",
   "id": "unnecessary-subject",
   "metadata": {},
   "source": [
    "### Diving In"
   ]
  },
  {
   "cell_type": "code",
   "execution_count": 1,
   "id": "increased-brain",
   "metadata": {},
   "outputs": [],
   "source": [
    "from pyspark.sql import SparkSession\n",
    "\n",
    "spark = SparkSession.builder.appName(\"films\").master(\"local[2]\").getOrCreate()"
   ]
  },
  {
   "cell_type": "code",
   "execution_count": 2,
   "id": "matched-quarterly",
   "metadata": {},
   "outputs": [],
   "source": [
    "spark = SparkSession.builder.appName(\"films\").master(\"local[2]\").getOrCreate()"
   ]
  },
  {
   "cell_type": "code",
   "execution_count": 3,
   "id": "impressive-coating",
   "metadata": {},
   "outputs": [
    {
     "data": {
      "text/html": [
       "\n",
       "            <div>\n",
       "                <p><b>SparkSession - in-memory</b></p>\n",
       "                \n",
       "        <div>\n",
       "            <p><b>SparkContext</b></p>\n",
       "\n",
       "            <p><a href=\"http://192.168.1.122:4041\">Spark UI</a></p>\n",
       "\n",
       "            <dl>\n",
       "              <dt>Version</dt>\n",
       "                <dd><code>v3.1.1</code></dd>\n",
       "              <dt>Master</dt>\n",
       "                <dd><code>local[2]</code></dd>\n",
       "              <dt>AppName</dt>\n",
       "                <dd><code>films</code></dd>\n",
       "            </dl>\n",
       "        </div>\n",
       "        \n",
       "            </div>\n",
       "        "
      ],
      "text/plain": [
       "<pyspark.sql.session.SparkSession at 0x1211af040>"
      ]
     },
     "execution_count": 3,
     "metadata": {},
     "output_type": "execute_result"
    }
   ],
   "source": [
    "spark"
   ]
  },
  {
   "cell_type": "code",
   "execution_count": null,
   "id": "isolated-knife",
   "metadata": {},
   "outputs": [],
   "source": []
  },
  {
   "cell_type": "markdown",
   "id": "upset-jesus",
   "metadata": {},
   "source": [
    "Finally, we'll read in data from s3 using pandas."
   ]
  },
  {
   "cell_type": "code",
   "execution_count": 4,
   "id": "intensive-elimination",
   "metadata": {},
   "outputs": [],
   "source": [
    "import pandas as pd\n",
    "url = \"s3://jigsaw-labs-student/imdb_movies.csv\"\n",
    "df = pd.read_csv(url)"
   ]
  },
  {
   "cell_type": "code",
   "execution_count": 7,
   "id": "painted-nicaragua",
   "metadata": {},
   "outputs": [],
   "source": [
    "movies_df = spark.createDataFrame(df.astype(str))"
   ]
  },
  {
   "cell_type": "code",
   "execution_count": 8,
   "id": "double-session",
   "metadata": {},
   "outputs": [
    {
     "data": {
      "text/plain": [
       "[Row(title='Avatar', genre='Action', budget='237000000', runtime='162.0', year='2009', month='12', revenue='2787965087')]"
      ]
     },
     "execution_count": 8,
     "metadata": {},
     "output_type": "execute_result"
    }
   ],
   "source": [
    "movies_df.take(1)"
   ]
  },
  {
   "cell_type": "markdown",
   "id": "atomic-finder",
   "metadata": {},
   "source": [
    "> <img src=\"./s3_to_movies.jpg\" width=\"60%\">"
   ]
  },
  {
   "cell_type": "markdown",
   "id": "least-harbor",
   "metadata": {},
   "source": [
    "### The Benefits of In Memory Storage "
   ]
  },
  {
   "cell_type": "markdown",
   "id": "retired-seminar",
   "metadata": {},
   "source": [
    "1. Cheaper storage\n",
    "    * costs less money if we store on S3 vs Postgres.\n",
    "    * So...can store data that has relatively low value, or even unknown value."
   ]
  },
  {
   "cell_type": "markdown",
   "id": "greek-robinson",
   "metadata": {},
   "source": [
    "2. Extract Load Transform"
   ]
  },
  {
   "cell_type": "code",
   "execution_count": 38,
   "id": "original-greene",
   "metadata": {},
   "outputs": [],
   "source": [
    "import requests\n",
    "url = \"https://data.cityofnewyork.us/resource/biws-g3hs.json?pulocationid=186\"\n",
    "response = requests.get(url)\n",
    "\n",
    "taxi_rides = response.json()"
   ]
  },
  {
   "cell_type": "code",
   "execution_count": 39,
   "id": "accessible-swift",
   "metadata": {},
   "outputs": [
    {
     "data": {
      "text/plain": [
       "[{'vendorid': '1',\n",
       "  'tpep_pickup_datetime': '2017-01-09T11:32:27.000',\n",
       "  'tpep_dropoff_datetime': '2017-01-09T11:36:01.000',\n",
       "  'passenger_count': '1',\n",
       "  'trip_distance': '0.90',\n",
       "  'ratecodeid': '1',\n",
       "  'store_and_fwd_flag': 'N',\n",
       "  'pulocationid': '186',\n",
       "  'dolocationid': '234',\n",
       "  'payment_type': '1',\n",
       "  'fare_amount': '5',\n",
       "  'extra': '0',\n",
       "  'mta_tax': '0.5',\n",
       "  'tip_amount': '1.45',\n",
       "  'tolls_amount': '0',\n",
       "  'improvement_surcharge': '0.3',\n",
       "  'total_amount': '7.25'}]"
      ]
     },
     "execution_count": 39,
     "metadata": {},
     "output_type": "execute_result"
    }
   ],
   "source": [
    "taxi_rides[:1]"
   ]
  },
  {
   "cell_type": "markdown",
   "id": "invalid-copyright",
   "metadata": {},
   "source": [
    "A. Postgres"
   ]
  },
  {
   "cell_type": "code",
   "execution_count": null,
   "id": "representative-courage",
   "metadata": {},
   "outputs": [],
   "source": [
    "* create a new table\n",
    "* coerce some of the data\n",
    "* Insert in the records"
   ]
  },
  {
   "cell_type": "markdown",
   "id": "handled-pantyhose",
   "metadata": {},
   "source": [
    "B. Pyspark"
   ]
  },
  {
   "cell_type": "markdown",
   "id": "necessary-standard",
   "metadata": {},
   "source": [
    "```python\n",
    "import pandas as pd\n",
    "df = pd.read_csv(\"s3://jigsaw-labs/imdb_movies.csv\")\n",
    "movies_df = spark.createDataFrame(df.astype(str))\n",
    "movies_df.take(1)\n",
    "```"
   ]
  },
  {
   "cell_type": "markdown",
   "id": "inside-alcohol",
   "metadata": {},
   "source": [
    "3. Memory intensive computations"
   ]
  },
  {
   "cell_type": "markdown",
   "id": "documentary-fetish",
   "metadata": {},
   "source": [
    "* Certain operations really requires having large amounts of data available in memory -- so having this in ability for in memory storage valuable."
   ]
  },
  {
   "cell_type": "markdown",
   "id": "handmade-singles",
   "metadata": {},
   "source": [
    "### But there's still local some storage"
   ]
  },
  {
   "cell_type": "markdown",
   "id": "satisfactory-generation",
   "metadata": {},
   "source": [
    "Even though Spark performs much of it's computation in memory, and primarily uses in memory storage, Spark nodes still do use local disks for data that does not fit into RAM, and to store intermediate output in a complex operation."
   ]
  },
  {
   "cell_type": "markdown",
   "id": "civil-inspection",
   "metadata": {},
   "source": [
    "> But this storage on disk is quite minor as compared to most databases.  "
   ]
  },
  {
   "cell_type": "markdown",
   "id": "wooden-processor",
   "metadata": {},
   "source": [
    "So let's update our diagram to more accurately reflect the hardware spark."
   ]
  },
  {
   "cell_type": "markdown",
   "id": "electrical-ultimate",
   "metadata": {},
   "source": [
    "> <img src='./pyspark-components.jpg' width=\"50%\">"
   ]
  },
  {
   "cell_type": "markdown",
   "id": "joined-stability",
   "metadata": {},
   "source": [
    "So even though there is technically in local storage to disk Spark, what distinguishes Spark is it's reliance on in memory storage and computation."
   ]
  },
  {
   "cell_type": "markdown",
   "id": "cosmetic-taiwan",
   "metadata": {},
   "source": [
    "[Resources](https://runawayhorse001.github.io/LearningApacheSpark/)"
   ]
  }
 ],
 "metadata": {
  "kernelspec": {
   "display_name": "Python 3",
   "language": "python",
   "name": "python3"
  },
  "language_info": {
   "codemirror_mode": {
    "name": "ipython",
    "version": 3
   },
   "file_extension": ".py",
   "mimetype": "text/x-python",
   "name": "python",
   "nbconvert_exporter": "python",
   "pygments_lexer": "ipython3",
   "version": "3.8.6"
  }
 },
 "nbformat": 4,
 "nbformat_minor": 5
}
