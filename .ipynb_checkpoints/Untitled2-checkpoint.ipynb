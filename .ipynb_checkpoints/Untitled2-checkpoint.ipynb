{
 "cells": [
  {
   "cell_type": "markdown",
   "id": "authentic-screen",
   "metadata": {},
   "source": [
    "* Work rises\n",
    "    * Detect data quality issues (fix them), or just fix them\n",
    "* Amelio and Work Rises (will rely on it for a long time)\n",
    "\n",
    "* Automated scrapers hitting the APIs of the external parties, and then need to make sure that the data is normalized and cleaned.\n",
    "* 500, \n",
    "\n",
    "* Tracking 3000 facilities, getting 6 datapoints for each.\n",
    "* Housian Labs\n",
    "\n",
    "\n",
    "[Staging Sight](https://staging.prisontelecom.org/resources)"
   ]
  },
  {
   "cell_type": "code",
   "execution_count": null,
   "id": "catholic-pencil",
   "metadata": {},
   "outputs": [],
   "source": []
  }
 ],
 "metadata": {
  "kernelspec": {
   "display_name": "Python 3",
   "language": "python",
   "name": "python3"
  },
  "language_info": {
   "codemirror_mode": {
    "name": "ipython",
    "version": 3
   },
   "file_extension": ".py",
   "mimetype": "text/x-python",
   "name": "python",
   "nbconvert_exporter": "python",
   "pygments_lexer": "ipython3",
   "version": "3.8.6"
  }
 },
 "nbformat": 4,
 "nbformat_minor": 5
}
