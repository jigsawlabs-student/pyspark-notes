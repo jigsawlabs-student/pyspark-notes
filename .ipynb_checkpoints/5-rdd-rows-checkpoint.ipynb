{
 "cells": [
  {
   "cell_type": "markdown",
   "id": "improved-ordering",
   "metadata": {},
   "source": [
    "# RDD Rows"
   ]
  },
  {
   "cell_type": "markdown",
   "id": "unlikely-register",
   "metadata": {},
   "source": [
    "### Introduction"
   ]
  },
  {
   "cell_type": "markdown",
   "id": "chicken-recruitment",
   "metadata": {},
   "source": [
    "```python\n",
    "data = sc.textFile('path_to_data')\n",
    "header = data.first() #extract header\n",
    "data = data.filter(row => row != header)`\n",
    "```"
   ]
  },
  {
   "cell_type": "markdown",
   "id": "nominated-crest",
   "metadata": {},
   "source": [
    "### Resources"
   ]
  },
  {
   "cell_type": "markdown",
   "id": "instant-elements",
   "metadata": {},
   "source": [
    "[RDD Rows](https://sparkbyexamples.com/pyspark/pyspark-row-using-rdd-dataframe/)"
   ]
  }
 ],
 "metadata": {
  "kernelspec": {
   "display_name": "Python 3",
   "language": "python",
   "name": "python3"
  },
  "language_info": {
   "codemirror_mode": {
    "name": "ipython",
    "version": 3
   },
   "file_extension": ".py",
   "mimetype": "text/x-python",
   "name": "python",
   "nbconvert_exporter": "python",
   "pygments_lexer": "ipython3",
   "version": "3.8.6"
  }
 },
 "nbformat": 4,
 "nbformat_minor": 5
}
