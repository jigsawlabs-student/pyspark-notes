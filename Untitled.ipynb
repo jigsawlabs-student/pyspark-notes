{
 "cells": [
  {
   "cell_type": "markdown",
   "id": "color-amsterdam",
   "metadata": {},
   "source": [
    "# Talk"
   ]
  },
  {
   "cell_type": "markdown",
   "id": "first-bowling",
   "metadata": {},
   "source": [
    "* TPC benchmarking dataset\n",
    "* Store cells"
   ]
  },
  {
   "cell_type": "markdown",
   "id": "featured-brook",
   "metadata": {},
   "source": [
    "Use hive partitioning "
   ]
  },
  {
   "cell_type": "markdown",
   "id": "classical-steps",
   "metadata": {},
   "source": [
    "* Partition - divides memory or storage.  "
   ]
  },
  {
   "cell_type": "markdown",
   "id": "pediatric-drinking",
   "metadata": {},
   "source": [
    "### Spark Partitions"
   ]
  },
  {
   "cell_type": "markdown",
   "id": "incomplete-folks",
   "metadata": {},
   "source": [
    "* Input\n",
    "\n",
    "* Shuffle\n",
    "* Output\n",
    "    * df.write_option(\"maxRecordsPerFile\", N)\n",
    "\n",
    "The input and the output are controlled by the size of the partitions.  But thee shufffle is changed by the count."
   ]
  },
  {
   "cell_type": "markdown",
   "id": "south-violin",
   "metadata": {},
   "source": [
    "* Optimize on shuffle\n",
    "    * Default was set to 200 shuffle\n",
    "    * Shuffle partition count = shuffle stage input data / target size (100 - 200 mb).\n",
    "    \n",
    "    "
   ]
  },
  {
   "cell_type": "markdown",
   "id": "robust-singer",
   "metadata": {},
   "source": [
    "[Daniel Tomes Talk](https://www.youtube.com/watch?v=_ArCesElWp8)"
   ]
  }
 ],
 "metadata": {
  "kernelspec": {
   "display_name": "Python 3",
   "language": "python",
   "name": "python3"
  },
  "language_info": {
   "codemirror_mode": {
    "name": "ipython",
    "version": 3
   },
   "file_extension": ".py",
   "mimetype": "text/x-python",
   "name": "python",
   "nbconvert_exporter": "python",
   "pygments_lexer": "ipython3",
   "version": "3.8.6"
  }
 },
 "nbformat": 4,
 "nbformat_minor": 5
}
