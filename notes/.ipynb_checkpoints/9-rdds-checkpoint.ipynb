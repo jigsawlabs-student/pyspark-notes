{
 "cells": [
  {
   "cell_type": "markdown",
   "id": "closing-dialogue",
   "metadata": {},
   "source": [
    "# Databricks RDDs"
   ]
  },
  {
   "cell_type": "markdown",
   "id": "rocky-circle",
   "metadata": {},
   "source": [
    "* RDDs\n",
    "* Logical model across distributed storage\n",
    "* Resilient \n",
    "    * Can recreate RDD whenever \n",
    "        * Get recorded as a lineage of where we created\n",
    "    * Because it's immutable we have an acyclic graph\n",
    "        * Allow us to always recreate an RDD\n",
    "     * Data can be unstructured or structured\n",
    "* Lazy\n",
    "    * Do not get materialized until we perform an action on an RDD\n",
    "    * This allows spark to find efficient ways to call a transformation more easily (eg. if end with a call to first)"
   ]
  },
  {
   "cell_type": "markdown",
   "id": "medium-witch",
   "metadata": {},
   "source": [
    "### Why RDDs"
   ]
  },
  {
   "cell_type": "markdown",
   "id": "speaking-heath",
   "metadata": {},
   "source": [
    "* It offers both control and flexibility\n",
    "* Provides a low level API\n",
    "* Type Safe \n",
    "* Encourage **how to**\n",
    "    * Can tell it exactly how to do things."
   ]
  },
  {
   "cell_type": "markdown",
   "id": "passing-ottawa",
   "metadata": {},
   "source": [
    "### Spark Operations\n",
    "\n",
    "<img src=\"./rdd_actions_trans.png\" width=\"70%\">"
   ]
  },
  {
   "cell_type": "code",
   "execution_count": null,
   "id": "breeding-cricket",
   "metadata": {},
   "outputs": [],
   "source": []
  }
 ],
 "metadata": {
  "kernelspec": {
   "display_name": "Python 3",
   "language": "python",
   "name": "python3"
  },
  "language_info": {
   "codemirror_mode": {
    "name": "ipython",
    "version": 3
   },
   "file_extension": ".py",
   "mimetype": "text/x-python",
   "name": "python",
   "nbconvert_exporter": "python",
   "pygments_lexer": "ipython3",
   "version": "3.8.6"
  }
 },
 "nbformat": 4,
 "nbformat_minor": 5
}
