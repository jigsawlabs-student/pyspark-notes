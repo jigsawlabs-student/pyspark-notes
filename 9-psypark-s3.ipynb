{
 "cells": [
  {
   "cell_type": "code",
   "execution_count": null,
   "id": "embedded-hammer",
   "metadata": {},
   "outputs": [],
   "source": [
    "    "
   ]
  },
  {
   "cell_type": "markdown",
   "id": "distinct-stack",
   "metadata": {},
   "source": [
    "`echo 'sc.getConf.get(\"spark.home\")' | spark-shell`"
   ]
  },
  {
   "cell_type": "code",
   "execution_count": 1,
   "id": "pregnant-projector",
   "metadata": {},
   "outputs": [],
   "source": [
    "spark_home = \"/Users/jeff/Documents/spark-3.1.1-bin-hadoop3.2\""
   ]
  },
  {
   "cell_type": "code",
   "execution_count": 2,
   "id": "numerous-sapphire",
   "metadata": {},
   "outputs": [],
   "source": [
    "import os\n",
    "import sys\n",
    "os.environ[\"SPARK_HOME\"] = spark_home"
   ]
  },
  {
   "cell_type": "code",
   "execution_count": 9,
   "id": "north-thumb",
   "metadata": {},
   "outputs": [],
   "source": [
    "# org.apache.hadoop:hadoop-aws:2.7.3"
   ]
  },
  {
   "cell_type": "code",
   "execution_count": 15,
   "id": "average-forge",
   "metadata": {},
   "outputs": [],
   "source": [
    "hadoop_conf = spark._jsc.hadoopConfiguration()\n",
    "hadoop_conf.set(\"fs.s3n.impl\", \"org.apache.hadoop.fs.s3native.NativeS3FileSystem\")\n",
    "hadoop_conf.set(\"fs.s3n.awsAccessKeyId\", \"\")\n",
    "hadoop_conf.set(\"fs.s3n.awsSecretAccessKey\", \"s\")"
   ]
  },
  {
   "cell_type": "code",
   "execution_count": 17,
   "id": "answering-walter",
   "metadata": {},
   "outputs": [],
   "source": [
    "# sdf = spark.read.option(\"header\", \"true\").csv(\"s3n://bartek-ml-course/predict_future_sales/sales_train.csv.gz\")\n"
   ]
  }
 ],
 "metadata": {
  "kernelspec": {
   "display_name": "Python 3",
   "language": "python",
   "name": "python3"
  },
  "language_info": {
   "codemirror_mode": {
    "name": "ipython",
    "version": 3
   },
   "file_extension": ".py",
   "mimetype": "text/x-python",
   "name": "python",
   "nbconvert_exporter": "python",
   "pygments_lexer": "ipython3",
   "version": "3.8.6"
  }
 },
 "nbformat": 4,
 "nbformat_minor": 5
}
