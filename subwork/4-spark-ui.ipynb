{
 "cells": [
  {
   "cell_type": "markdown",
   "id": "bridal-coalition",
   "metadata": {},
   "source": [
    "# Spark UI"
   ]
  },
  {
   "cell_type": "markdown",
   "id": "listed-refrigerator",
   "metadata": {},
   "source": [
    "### Introduction"
   ]
  },
  {
   "cell_type": "markdown",
   "id": "built-suite",
   "metadata": {},
   "source": [
    "* Add in the map Partition (in the map reduce lesson, as this tends to come up)."
   ]
  },
  {
   "cell_type": "markdown",
   "id": "tender-despite",
   "metadata": {},
   "source": [
    "<img src=\"./different_stages.png\" width=\"60%\">"
   ]
  },
  {
   "cell_type": "markdown",
   "id": "desirable-flooring",
   "metadata": {},
   "source": [
    "### Resources"
   ]
  },
  {
   "cell_type": "markdown",
   "id": "optimum-batman",
   "metadata": {},
   "source": [
    "[Spark UI databricks](https://databricks.com/blog/2015/06/22/understanding-your-spark-application-through-visualization.html)\n",
    "\n",
    "[Spark UI Analytics Vidhya](https://medium.com/analytics-vidhya/spark-ui-c7f2ca9ef97f)"
   ]
  },
  {
   "cell_type": "markdown",
   "id": "crucial-lambda",
   "metadata": {},
   "source": [
    "[Spark By Examples Web UI](https://sparkbyexamples.com/spark/spark-web-ui-understanding/)"
   ]
  }
 ],
 "metadata": {
  "kernelspec": {
   "display_name": "Python 3",
   "language": "python",
   "name": "python3"
  },
  "language_info": {
   "codemirror_mode": {
    "name": "ipython",
    "version": 3
   },
   "file_extension": ".py",
   "mimetype": "text/x-python",
   "name": "python",
   "nbconvert_exporter": "python",
   "pygments_lexer": "ipython3",
   "version": "3.8.6"
  }
 },
 "nbformat": 4,
 "nbformat_minor": 5
}
