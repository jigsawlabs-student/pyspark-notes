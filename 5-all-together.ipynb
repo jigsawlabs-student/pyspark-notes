{
 "cells": [
  {
   "cell_type": "markdown",
   "id": "binary-enterprise",
   "metadata": {},
   "source": [
    "# Putting it Together"
   ]
  },
  {
   "cell_type": "markdown",
   "id": "mounted-kruger",
   "metadata": {},
   "source": [
    "### Introduction"
   ]
  },
  {
   "cell_type": "markdown",
   "id": "differential-fetish",
   "metadata": {},
   "source": [
    "Now that we know different aspects about how and when Spark RDDs process data, let's make sure we understand the different components of what occurs when we call a Spark action.  In short, a Spark action kicks off a job, which may consist of many stages, each of which may consist of many tasks.  Let's further define Spark jobs, stages and tasks in this lesson."
   ]
  },
  {
   "cell_type": "markdown",
   "id": "prospective-jersey",
   "metadata": {},
   "source": [
    "### The Components of Calling an Action"
   ]
  },
  {
   "cell_type": "markdown",
   "id": "bearing-bleeding",
   "metadata": {},
   "source": [
    "1. Spark Jobs \n",
    "\n",
    "So remember that Spark transformations do not actually act on our data, whereas actions do.  This means, if we look at our Spark UI, we'll see that the number Spark jobs is equal to the number of actions that we execute.  So if we simply call `movies_rdd.take(1)`, this kicks off a spark job."
   ]
  },
  {
   "cell_type": "markdown",
   "id": "bored-blake",
   "metadata": {},
   "source": [
    "2. Spark Stages"
   ]
  },
  {
   "cell_type": "markdown",
   "id": "eight-counter",
   "metadata": {},
   "source": [
    "We also saw that a single job may have multiple stages.  We can think of our stages as a logical group of steps that can be completed at once.  For us, our stages are often divided into steps that can be performed before a shuffle, and then steps that can be performed after a shuffle.\n",
    "\n",
    "For example, let's create a spark context and perform a `groupby`."
   ]
  },
  {
   "cell_type": "code",
   "execution_count": 1,
   "id": "understood-judgment",
   "metadata": {},
   "outputs": [],
   "source": [
    "from pyspark import SparkContext, SparkConf\n",
    "conf = SparkConf().setAppName(\"films\").setMaster(\"local[2]\")\n",
    "sc = SparkContext.getOrCreate(conf=conf)"
   ]
  },
  {
   "cell_type": "markdown",
   "id": "still-baseline",
   "metadata": {},
   "source": [
    "> And then create an RDD."
   ]
  },
  {
   "cell_type": "code",
   "execution_count": 2,
   "id": "severe-qualification",
   "metadata": {},
   "outputs": [],
   "source": [
    "movies = ['dark knight', 'dunkirk', 'pulp fiction', 'avatar']\n",
    "movies_rdd = sc.parallelize(movies)"
   ]
  },
  {
   "cell_type": "code",
   "execution_count": 7,
   "id": "confident-superior",
   "metadata": {},
   "outputs": [
    {
     "data": {
      "text/plain": [
       "[('D', 2), ('P', 1), ('A', 1)]"
      ]
     },
     "execution_count": 7,
     "metadata": {},
     "output_type": "execute_result"
    }
   ],
   "source": [
    "movies_rdd.map(lambda word: word.title()). \\\n",
    "groupBy(lambda title: title[0]). \\\n",
    "map(lambda group: (group[0], len(group[1]))).collect()"
   ]
  },
  {
   "cell_type": "markdown",
   "id": "terminal-reason",
   "metadata": {},
   "source": [
    "We can see that the first stage involved reading the file, and grouping together the data.  This is often called the `ShuffleMapStage`, because it's where our shuffling and mapping occurs."
   ]
  },
  {
   "cell_type": "markdown",
   "id": "nuclear-smart",
   "metadata": {},
   "source": [
    "<img src=\"./preshuffle.png\" width=\"30%\">"
   ]
  },
  {
   "cell_type": "markdown",
   "id": "contrary-desert",
   "metadata": {},
   "source": [
    "And then once our data was grouped together properly, Spark could prepare the final results of counting the number of movies by record.  This is called the `ResultStage`."
   ]
  },
  {
   "cell_type": "markdown",
   "id": "therapeutic-scottish",
   "metadata": {},
   "source": [
    "<img src=\"./resultstage.png\" width=\"35%\">"
   ]
  },
  {
   "cell_type": "markdown",
   "id": "dirty-workstation",
   "metadata": {},
   "source": [
    "3. Spark Tasks"
   ]
  },
  {
   "cell_type": "markdown",
   "id": "suspended-vertex",
   "metadata": {},
   "source": [
    "We know that each stage is performed across multiple partitions of data simultaneously.  The processing of a stage that occurs on each separate partition is called a task.  We see this when we look in the event timeline of Spark."
   ]
  },
  {
   "cell_type": "markdown",
   "id": "attended-civilian",
   "metadata": {},
   "source": [
    "<img src=\"./tasks.png\" width=\"100%\">"
   ]
  },
  {
   "cell_type": "markdown",
   "id": "grateful-detroit",
   "metadata": {},
   "source": [
    "Above is the tasks for a single stage, and we see that the same processing occurred across multiple partitions, with one task per partition."
   ]
  },
  {
   "cell_type": "markdown",
   "id": "constant-solid",
   "metadata": {},
   "source": [
    "### Summary"
   ]
  },
  {
   "cell_type": "markdown",
   "id": "military-theme",
   "metadata": {},
   "source": [
    "In this lesson, we saw how that spark job many have many stages and that a stage may be performed through many tasks.  There is one job per execution of an action in Spark.  And a job may contain many stages.  Oftentimes, if there is a shuffle, the stages are divided into the operations that occur before the shuffle, and the operations that occur after the shuffle -- the ShuffleMapStage and the ResultStage.  Finally, we saw that each stage can have many tasks, where we may have one task per partition of our data.  We can see these jobs, stages, and tasks through our Spark UI."
   ]
  },
  {
   "cell_type": "markdown",
   "id": "funky-indonesia",
   "metadata": {},
   "source": [
    "### Resources\n",
    "\n",
    "[Apache Spark Core Youtube](https://www.youtube.com/watch?v=_ArCesElWp8&ab_channel=Databricks)"
   ]
  }
 ],
 "metadata": {
  "kernelspec": {
   "display_name": "Python 3",
   "language": "python",
   "name": "python3"
  },
  "language_info": {
   "codemirror_mode": {
    "name": "ipython",
    "version": 3
   },
   "file_extension": ".py",
   "mimetype": "text/x-python",
   "name": "python",
   "nbconvert_exporter": "python",
   "pygments_lexer": "ipython3",
   "version": "3.8.6"
  }
 },
 "nbformat": 4,
 "nbformat_minor": 5
}
