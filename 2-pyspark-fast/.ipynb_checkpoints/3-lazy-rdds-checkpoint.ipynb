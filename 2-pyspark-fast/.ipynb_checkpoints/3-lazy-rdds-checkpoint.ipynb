{
 "cells": [
  {
   "cell_type": "markdown",
   "id": "desirable-manner",
   "metadata": {},
   "source": [
    "# Efficient RDDs"
   ]
  },
  {
   "cell_type": "markdown",
   "id": "final-works",
   "metadata": {},
   "source": [
    "### Looking Under the Hood"
   ]
  },
  {
   "cell_type": "code",
   "execution_count": 1,
   "id": "naughty-absolute",
   "metadata": {},
   "outputs": [],
   "source": [
    "from pyspark import SparkContext, SparkConf\n",
    "\n",
    "conf = SparkConf().setAppName(\"films\").setMaster(\"local[2]\")\n",
    "sc = SparkContext.getOrCreate(conf=conf)"
   ]
  },
  {
   "cell_type": "code",
   "execution_count": 2,
   "id": "round-cancer",
   "metadata": {},
   "outputs": [],
   "source": [
    "movies = ['dark knight', 'dunkirk', 'pulp fiction', 'avatar']"
   ]
  },
  {
   "cell_type": "code",
   "execution_count": 3,
   "id": "early-dealing",
   "metadata": {},
   "outputs": [
    {
     "data": {
      "text/plain": [
       "ParallelCollectionRDD[0] at readRDDFromFile at PythonRDD.scala:274"
      ]
     },
     "execution_count": 3,
     "metadata": {},
     "output_type": "execute_result"
    }
   ],
   "source": [
    "movies_rdd = sc.parallelize(movies)\n",
    "movies_rdd"
   ]
  },
  {
   "cell_type": "markdown",
   "id": "solid-express",
   "metadata": {},
   "source": [
    "And then let's capitalize the movies, and select the movies that begin with `d`."
   ]
  },
  {
   "cell_type": "code",
   "execution_count": 4,
   "id": "productive-vehicle",
   "metadata": {},
   "outputs": [
    {
     "data": {
      "text/plain": [
       "['Dark Knight', 'Dunkirk', 'Pulp Fiction', 'Avatar']"
      ]
     },
     "execution_count": 4,
     "metadata": {},
     "output_type": "execute_result"
    }
   ],
   "source": [
    "movies_rdd.map(lambda movie: movie.title()).collect()"
   ]
  },
  {
   "cell_type": "code",
   "execution_count": 5,
   "id": "placed-rotation",
   "metadata": {},
   "outputs": [
    {
     "data": {
      "text/html": [
       "\n",
       "        <div>\n",
       "            <p><b>SparkContext</b></p>\n",
       "\n",
       "            <p><a href=\"http://192.168.1.122:4044\">Spark UI</a></p>\n",
       "\n",
       "            <dl>\n",
       "              <dt>Version</dt>\n",
       "                <dd><code>v3.1.1</code></dd>\n",
       "              <dt>Master</dt>\n",
       "                <dd><code>local[2]</code></dd>\n",
       "              <dt>AppName</dt>\n",
       "                <dd><code>films</code></dd>\n",
       "            </dl>\n",
       "        </div>\n",
       "        "
      ],
      "text/plain": [
       "<SparkContext master=local[2] appName=films>"
      ]
     },
     "execution_count": 5,
     "metadata": {},
     "output_type": "execute_result"
    }
   ],
   "source": [
    "sc"
   ]
  },
  {
   "cell_type": "markdown",
   "id": "fancy-fight",
   "metadata": {},
   "source": [
    "> <img src=\"./parallel.png\" width=\"100%\">"
   ]
  },
  {
   "cell_type": "markdown",
   "id": "scenic-security",
   "metadata": {},
   "source": [
    "Now what if we do the following."
   ]
  },
  {
   "cell_type": "code",
   "execution_count": 11,
   "id": "alpine-identification",
   "metadata": {},
   "outputs": [
    {
     "data": {
      "text/plain": [
       "['Dunkirk']"
      ]
     },
     "execution_count": 11,
     "metadata": {},
     "output_type": "execute_result"
    }
   ],
   "source": [
    "movies_rdd.map(lambda movie: movie.title()).filter(lambda movie: movie == \"Dunkirk\").take(1)"
   ]
  },
  {
   "cell_type": "markdown",
   "id": "intelligent-psychiatry",
   "metadata": {},
   "source": [
    "> <img src=\"./individual_task.png\" width=\"80%\">"
   ]
  },
  {
   "cell_type": "markdown",
   "id": "considerable-lambda",
   "metadata": {},
   "source": [
    "### A little experiment"
   ]
  },
  {
   "cell_type": "code",
   "execution_count": 12,
   "id": "congressional-isolation",
   "metadata": {},
   "outputs": [
    {
     "data": {
      "text/plain": [
       "PythonRDD[8] at RDD at PythonRDD.scala:53"
      ]
     },
     "execution_count": 12,
     "metadata": {},
     "output_type": "execute_result"
    }
   ],
   "source": [
    "movies_rdd.map(lambda movie: movie.title())"
   ]
  },
  {
   "cell_type": "markdown",
   "id": "original-marshall",
   "metadata": {},
   "source": [
    "And even if we chain the map and the filter methods, still nothing is returned."
   ]
  },
  {
   "cell_type": "code",
   "execution_count": 8,
   "id": "aware-discretion",
   "metadata": {},
   "outputs": [
    {
     "data": {
      "text/plain": [
       "PythonRDD[3] at RDD at PythonRDD.scala:53"
      ]
     },
     "execution_count": 8,
     "metadata": {},
     "output_type": "execute_result"
    }
   ],
   "source": [
    "movies_rdd.map(lambda movie: movie.title()).filter(lambda movie: movie[0] == 'd')"
   ]
  },
  {
   "cell_type": "code",
   "execution_count": 9,
   "id": "requested-miniature",
   "metadata": {},
   "outputs": [
    {
     "data": {
      "text/plain": [
       "['Dark Knight', 'Dunkirk']"
      ]
     },
     "execution_count": 9,
     "metadata": {},
     "output_type": "execute_result"
    }
   ],
   "source": [
    "movies_rdd.filter(lambda movie: movie[0] == 'd').map(lambda movie: movie.title()).collect()"
   ]
  },
  {
   "cell_type": "markdown",
   "id": "declared-emperor",
   "metadata": {},
   "source": [
    "### Transformations and Actions"
   ]
  },
  {
   "cell_type": "markdown",
   "id": "fabulous-filter",
   "metadata": {},
   "source": [
    "* **actions** (eg. collect).  \n",
    "\n",
    "* **transformations**: map, filter"
   ]
  },
  {
   "cell_type": "markdown",
   "id": "regional-police",
   "metadata": {},
   "source": [
    "1. Transformations"
   ]
  },
  {
   "cell_type": "markdown",
   "id": "apart-documentary",
   "metadata": {},
   "source": [
    "* sample"
   ]
  },
  {
   "cell_type": "markdown",
   "id": "missing-antigua",
   "metadata": {},
   "source": [
    "The `sample` method allows us to take a random sample from our dataset.  "
   ]
  },
  {
   "cell_type": "code",
   "execution_count": 14,
   "id": "adjacent-inflation",
   "metadata": {},
   "outputs": [
    {
     "data": {
      "text/plain": [
       "['dunkirk', 'dunkirk', 'pulp fiction']"
      ]
     },
     "execution_count": 14,
     "metadata": {},
     "output_type": "execute_result"
    }
   ],
   "source": [
    "movies_rdd.sample(fraction = .5, withReplacement = True).collect()"
   ]
  },
  {
   "cell_type": "markdown",
   "id": "rational-sixth",
   "metadata": {},
   "source": [
    "* distinct"
   ]
  },
  {
   "cell_type": "code",
   "execution_count": 15,
   "id": "interracial-candy",
   "metadata": {},
   "outputs": [
    {
     "data": {
      "text/plain": [
       "PythonRDD[15] at RDD at PythonRDD.scala:53"
      ]
     },
     "execution_count": 15,
     "metadata": {},
     "output_type": "execute_result"
    }
   ],
   "source": [
    "movies_rdd.distinct()"
   ]
  },
  {
   "cell_type": "markdown",
   "id": "sacred-intervention",
   "metadata": {},
   "source": [
    "> Distinct finds the unique results.  Notice that it also does not return data."
   ]
  },
  {
   "cell_type": "markdown",
   "id": "basic-header",
   "metadata": {},
   "source": [
    "2. Actions"
   ]
  },
  {
   "cell_type": "markdown",
   "id": "eligible-mattress",
   "metadata": {},
   "source": [
    "Actions are a bit more about the end result.  So far we've learned about `collect`, which returns *all* of the results of a series of transformations.  \n",
    "\n",
    "* Take\n",
    "\n",
    "We've also seen `take`, which limits our results to a subset."
   ]
  },
  {
   "cell_type": "code",
   "execution_count": 16,
   "id": "continental-pension",
   "metadata": {},
   "outputs": [
    {
     "data": {
      "text/plain": [
       "['dark knight', 'dunkirk']"
      ]
     },
     "execution_count": 16,
     "metadata": {},
     "output_type": "execute_result"
    }
   ],
   "source": [
    "movies_rdd.distinct().take(2)"
   ]
  },
  {
   "cell_type": "markdown",
   "id": "duplicate-regular",
   "metadata": {},
   "source": [
    "> So `take` is similar to the `LIMIT` function in SQL. Notice that here our records are returned."
   ]
  },
  {
   "cell_type": "markdown",
   "id": "abstract-consequence",
   "metadata": {},
   "source": [
    "* Count"
   ]
  },
  {
   "cell_type": "code",
   "execution_count": 18,
   "id": "quarterly-homeless",
   "metadata": {},
   "outputs": [
    {
     "data": {
      "text/plain": [
       "['dark knight', 'dunkirk', 'pulp fiction', 'avatar']"
      ]
     },
     "execution_count": 18,
     "metadata": {},
     "output_type": "execute_result"
    }
   ],
   "source": [
    "movies_rdd.distinct().collect()"
   ]
  },
  {
   "cell_type": "markdown",
   "id": "verbal-cowboy",
   "metadata": {},
   "source": [
    "Count simply counts the results."
   ]
  },
  {
   "cell_type": "markdown",
   "id": "amended-comedy",
   "metadata": {},
   "source": [
    "### Summary"
   ]
  },
  {
   "cell_type": "markdown",
   "id": "rocky-valve",
   "metadata": {},
   "source": [
    "So we can see that, our actions have a bit of finality to them.  To get a better sense of the transformation and action functions, it's worth looking at the [documentation](https://spark.apache.org/docs/latest/rdd-programming-guide.html#transformations)."
   ]
  },
  {
   "cell_type": "markdown",
   "id": "rising-dimension",
   "metadata": {},
   "source": [
    "### Resources"
   ]
  },
  {
   "cell_type": "markdown",
   "id": "israeli-context",
   "metadata": {},
   "source": [
    "[Berkley White Paper](https://www.usenix.org/system/files/conference/nsdi12/nsdi12-final138.pdf)\n",
    "\n",
    "[Pyspark RDD Methods blog](https://www.nbshare.io/notebook/403283317/How-To-Analyze-Data-Using-Pyspark-RDD/)\n",
    "\n",
    "\n",
    "[Databricks Debugging Spark Streaming](https://docs.databricks.com/spark/latest/rdd-streaming/debugging-streaming-applications.html)"
   ]
  }
 ],
 "metadata": {
  "kernelspec": {
   "display_name": "Python 3",
   "language": "python",
   "name": "python3"
  },
  "language_info": {
   "codemirror_mode": {
    "name": "ipython",
    "version": 3
   },
   "file_extension": ".py",
   "mimetype": "text/x-python",
   "name": "python",
   "nbconvert_exporter": "python",
   "pygments_lexer": "ipython3",
   "version": "3.8.6"
  }
 },
 "nbformat": 4,
 "nbformat_minor": 5
}
