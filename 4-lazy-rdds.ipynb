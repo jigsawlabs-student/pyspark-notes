{
 "cells": [
  {
   "cell_type": "markdown",
   "id": "tender-times",
   "metadata": {},
   "source": [
    "# Efficient RDDs"
   ]
  },
  {
   "cell_type": "markdown",
   "id": "super-delaware",
   "metadata": {},
   "source": [
    "### Introduction"
   ]
  },
  {
   "cell_type": "markdown",
   "id": "suspended-specific",
   "metadata": {},
   "source": [
    "So we saw in the last lesson that Spark achieves fault tolerance by keeping a recording of the transformations needed to recreate our data.\n",
    "\n",
    "<img src=\"./filter_map.jpg\" width=\"40%\">"
   ]
  },
  {
   "cell_type": "markdown",
   "id": "periodic-activation",
   "metadata": {},
   "source": [
    "These steps are an example of a directed acyclic graph, because we go from one step to another to arrive at the resulting RDD.  It turns out that recording the steps needed to transform the data is useful not just for fault tolerance but because it allows Spark to determine efficient ways to perform the prescribed steps.  We'll learn more about how spark achieves this efficiency in this lesson."
   ]
  },
  {
   "cell_type": "markdown",
   "id": "directed-saint",
   "metadata": {},
   "source": [
    "### Getting Setup (On Google Colab)"
   ]
  },
  {
   "cell_type": "markdown",
   "id": "adaptive-marks",
   "metadata": {},
   "source": [
    "* Begin by installing some pip packages and the java development kit."
   ]
  },
  {
   "cell_type": "code",
   "execution_count": null,
   "id": "romance-cream",
   "metadata": {},
   "outputs": [],
   "source": [
    "!pip install pyspark --quiet\n",
    "!pip install -U -q PyDrive --quiet \n",
    "!apt install openjdk-8-jdk-headless &> /dev/null"
   ]
  },
  {
   "cell_type": "markdown",
   "id": "polyphonic-thursday",
   "metadata": {},
   "source": [
    "* Then set the java environmental variable"
   ]
  },
  {
   "cell_type": "code",
   "execution_count": null,
   "id": "alien-still",
   "metadata": {},
   "outputs": [],
   "source": [
    "import os\n",
    "os.environ[\"JAVA_HOME\"] = \"/usr/lib/jvm/java-8-openjdk-amd64\""
   ]
  },
  {
   "cell_type": "markdown",
   "id": "ordered-puzzle",
   "metadata": {},
   "source": [
    "* Then connect to a SparkSession, setting the spark ui port to `4050`."
   ]
  },
  {
   "cell_type": "code",
   "execution_count": null,
   "id": "complex-application",
   "metadata": {},
   "outputs": [],
   "source": [
    "from pyspark import SparkContext, SparkConf\n",
    "\n",
    "conf = SparkConf(\"spark.ui.port\", \"4050\").setAppName(\"films\").setMaster(\"local[2]\")\n",
    "sc = SparkContext.getOrCreate(conf=conf)"
   ]
  },
  {
   "cell_type": "markdown",
   "id": "preceding-innocent",
   "metadata": {},
   "source": [
    "* Then we need to install ngrok which will allow us to place our local spark ui on the web."
   ]
  },
  {
   "cell_type": "code",
   "execution_count": 1,
   "id": "official-hotel",
   "metadata": {},
   "outputs": [],
   "source": [
    "!wget https://bin.equinox.io/c/4VmDzA7iaHb/ngrok-stable-linux-amd64.zip &> /dev/null\n",
    "!unzip ngrok-stable-linux-amd64.zip &> /dev/null\n",
    "get_ipython().system_raw('./ngrok http 4050 &')"
   ]
  },
  {
   "cell_type": "markdown",
   "id": "infrared-difference",
   "metadata": {},
   "source": [
    "* And finally we get a link our Spark UI"
   ]
  },
  {
   "cell_type": "code",
   "execution_count": null,
   "id": "killing-check",
   "metadata": {},
   "outputs": [],
   "source": [
    "!curl -s http://localhost:4040/api/tunnels | python3 -c \\\n",
    "    \"import sys, json; print(json.load(sys.stdin)['tunnels'][0]['public_url'])\""
   ]
  },
  {
   "cell_type": "markdown",
   "id": "streaming-separate",
   "metadata": {},
   "source": [
    "### Looking Under the Hood"
   ]
  },
  {
   "cell_type": "markdown",
   "id": "heard-reservation",
   "metadata": {},
   "source": [
    "Now  let's again create an RDD from our movie records."
   ]
  },
  {
   "cell_type": "code",
   "execution_count": 3,
   "id": "biblical-passage",
   "metadata": {},
   "outputs": [],
   "source": [
    "movies = ['dark knight', 'dunkirk', 'pulp fiction', 'avatar']"
   ]
  },
  {
   "cell_type": "code",
   "execution_count": 4,
   "id": "previous-burden",
   "metadata": {},
   "outputs": [
    {
     "data": {
      "text/plain": [
       "ParallelCollectionRDD[0] at readRDDFromFile at PythonRDD.scala:274"
      ]
     },
     "execution_count": 4,
     "metadata": {},
     "output_type": "execute_result"
    }
   ],
   "source": [
    "movies_rdd = sc.parallelize(movies)\n",
    "movies_rdd"
   ]
  },
  {
   "cell_type": "markdown",
   "id": "ambient-morgan",
   "metadata": {},
   "source": [
    "And then let's capitalize the movies, and select the movies that begin with `d`."
   ]
  },
  {
   "cell_type": "code",
   "execution_count": 5,
   "id": "activated-cooperation",
   "metadata": {},
   "outputs": [
    {
     "data": {
      "text/plain": [
       "['Dark Knight', 'Dunkirk', 'Pulp Fiction', 'Avatar']"
      ]
     },
     "execution_count": 5,
     "metadata": {},
     "output_type": "execute_result"
    }
   ],
   "source": [
    "movies_rdd.map(lambda movie: movie.title()).collect()"
   ]
  },
  {
   "cell_type": "markdown",
   "id": "stopped-arcade",
   "metadata": {},
   "source": [
    "Now as we know, Spark will partition the dataset across the cores of the executors, and then map through the records in parallel, returning all of the results."
   ]
  },
  {
   "cell_type": "markdown",
   "id": "stretch-stability",
   "metadata": {},
   "source": [
    "> <img src=\"./parallel.png\" width=\"60%\">"
   ]
  },
  {
   "cell_type": "markdown",
   "id": "aware-token",
   "metadata": {},
   "source": [
    "Now let's change the function so that this time, instead of returning all of the results, we just return the first result."
   ]
  },
  {
   "cell_type": "code",
   "execution_count": 7,
   "id": "celtic-starter",
   "metadata": {},
   "outputs": [
    {
     "data": {
      "text/plain": [
       "['Dark Knight']"
      ]
     },
     "execution_count": 7,
     "metadata": {},
     "output_type": "execute_result"
    }
   ],
   "source": [
    "movies_rdd.map(lambda movie: movie.title()).take(1)"
   ]
  },
  {
   "cell_type": "markdown",
   "id": "respected-empty",
   "metadata": {},
   "source": [
    "Now if we think about, this previous step, here we would not have to map through all of the steps just to return a single result.  And it turns out if we look at Spark, we can see that even though the dataset was distributed -- it only needed to perform work on a single partition to return one result."
   ]
  },
  {
   "cell_type": "markdown",
   "id": "brief-minister",
   "metadata": {},
   "source": [
    "> <img src=\"./individual_task.png\" width=\"80%\">"
   ]
  },
  {
   "cell_type": "markdown",
   "id": "handled-sigma",
   "metadata": {},
   "source": [
    "This ability, to see the end result that needs to be returned, and to work efficiently to only take the needed steps to return those results, is a valuable feature when working with large datasets.  And we can better see how Spark accomplishes it in the next section."
   ]
  },
  {
   "cell_type": "markdown",
   "id": "miniature-belly",
   "metadata": {},
   "source": [
    "### A little experiment"
   ]
  },
  {
   "cell_type": "markdown",
   "id": "dress-porter",
   "metadata": {},
   "source": [
    "If we run the code below, notice that nothing is returned."
   ]
  },
  {
   "cell_type": "code",
   "execution_count": 12,
   "id": "finnish-polls",
   "metadata": {},
   "outputs": [
    {
     "data": {
      "text/plain": [
       "PythonRDD[8] at RDD at PythonRDD.scala:53"
      ]
     },
     "execution_count": 12,
     "metadata": {},
     "output_type": "execute_result"
    }
   ],
   "source": [
    "movies_rdd.map(lambda movie: movie.title())"
   ]
  },
  {
   "cell_type": "markdown",
   "id": "ranking-commonwealth",
   "metadata": {},
   "source": [
    "And even if we chain the map and the filter methods, still nothing is returned."
   ]
  },
  {
   "cell_type": "code",
   "execution_count": 8,
   "id": "convenient-compression",
   "metadata": {},
   "outputs": [
    {
     "data": {
      "text/plain": [
       "PythonRDD[3] at RDD at PythonRDD.scala:53"
      ]
     },
     "execution_count": 8,
     "metadata": {},
     "output_type": "execute_result"
    }
   ],
   "source": [
    "movies_rdd.map(lambda movie: movie.title()).filter(lambda movie: movie[0] == 'd')"
   ]
  },
  {
   "cell_type": "markdown",
   "id": "acute-valve",
   "metadata": {},
   "source": [
    "It's only when we add a collect function on the end, will some data be returned."
   ]
  },
  {
   "cell_type": "code",
   "execution_count": 9,
   "id": "valued-spank",
   "metadata": {},
   "outputs": [
    {
     "data": {
      "text/plain": [
       "['Dark Knight', 'Dunkirk']"
      ]
     },
     "execution_count": 9,
     "metadata": {},
     "output_type": "execute_result"
    }
   ],
   "source": [
    "movies_rdd.filter(lambda movie: movie[0] == 'd').map(lambda movie: movie.title()).collect()"
   ]
  },
  {
   "cell_type": "markdown",
   "id": "sophisticated-aggregate",
   "metadata": {},
   "source": [
    "So above, nothing was returned when we ran the `map` and `collect` functions, because when we only executed those functions, Spark did not actually act on the data.  Then in the third line we finally did act on the data.  We told Spark that we want to both transform, and filter the data, and then return all of the results.  \n",
    "\n",
    "So it's only when we called the `collect` function that Spark's driver determined the tasks to then send off to the executors and return the results."
   ]
  },
  {
   "cell_type": "markdown",
   "id": "guided-hydrogen",
   "metadata": {},
   "source": [
    "### Transformations and Actions"
   ]
  },
  {
   "cell_type": "markdown",
   "id": "three-singing",
   "metadata": {},
   "source": [
    "So above we can see that the functions `map` and `filter` do not actually perform any work on our data.  Instead steps are only kicked off when we call the `collect` method.  "
   ]
  },
  {
   "cell_type": "markdown",
   "id": "premium-father",
   "metadata": {},
   "source": [
    "In Spark, the methods that kick off tasks and return results are called **actions** (eg. collect).  And methods like `map` and `transform` that do not are called **transformations**.  "
   ]
  },
  {
   "cell_type": "markdown",
   "id": "northern-canon",
   "metadata": {},
   "source": [
    "1. Transformations"
   ]
  },
  {
   "cell_type": "markdown",
   "id": "closed-adobe",
   "metadata": {},
   "source": [
    "So we already saw that transformations include `map` and `filter`, and our transformations do not actually return results to our users.  Here's a couple other transformations."
   ]
  },
  {
   "cell_type": "markdown",
   "id": "psychological-somewhere",
   "metadata": {},
   "source": [
    "* sample"
   ]
  },
  {
   "cell_type": "markdown",
   "id": "irish-timber",
   "metadata": {},
   "source": [
    "The `sample` method allows us to take a random sample from our dataset.  "
   ]
  },
  {
   "cell_type": "code",
   "execution_count": 24,
   "id": "unsigned-anime",
   "metadata": {},
   "outputs": [
    {
     "data": {
      "text/plain": [
       "PythonRDD[16] at RDD at PythonRDD.scala:53"
      ]
     },
     "execution_count": 24,
     "metadata": {},
     "output_type": "execute_result"
    }
   ],
   "source": [
    "movies_rdd.sample(fraction = .2, withReplacement = True)"
   ]
  },
  {
   "cell_type": "markdown",
   "id": "indian-blackberry",
   "metadata": {},
   "source": [
    "> Notice that it does not return any data."
   ]
  },
  {
   "cell_type": "markdown",
   "id": "adverse-coast",
   "metadata": {},
   "source": [
    "* distinct"
   ]
  },
  {
   "cell_type": "code",
   "execution_count": 12,
   "id": "naked-alert",
   "metadata": {},
   "outputs": [
    {
     "data": {
      "text/plain": [
       "PythonRDD[14] at RDD at PythonRDD.scala:53"
      ]
     },
     "execution_count": 12,
     "metadata": {},
     "output_type": "execute_result"
    }
   ],
   "source": [
    "movies_rdd.distinct()"
   ]
  },
  {
   "cell_type": "markdown",
   "id": "radio-georgia",
   "metadata": {},
   "source": [
    "> Distinct finds the unique results.  Notice that it also does not return data."
   ]
  },
  {
   "cell_type": "markdown",
   "id": "finite-guide",
   "metadata": {},
   "source": [
    "Finally, we have already seen `map`, which provides a one to one transformation of our records, and `select` which filters our data.  In each case, our transformations do not return data to us. "
   ]
  },
  {
   "cell_type": "markdown",
   "id": "described-federation",
   "metadata": {},
   "source": [
    "2. Actions"
   ]
  },
  {
   "cell_type": "markdown",
   "id": "incorporate-morocco",
   "metadata": {},
   "source": [
    "Actions are a bit more about the end result.  So far we've learned about `collect`, which returns *all* of the results of a series of transformations.  \n",
    "\n",
    "* Take\n",
    "\n",
    "We've also seen `take`, which limits our results to a subset."
   ]
  },
  {
   "cell_type": "code",
   "execution_count": 27,
   "id": "portable-difficulty",
   "metadata": {},
   "outputs": [
    {
     "data": {
      "text/plain": [
       "['dark knight', 'dunkirk']"
      ]
     },
     "execution_count": 27,
     "metadata": {},
     "output_type": "execute_result"
    }
   ],
   "source": [
    "movies_rdd.distinct().take(2)"
   ]
  },
  {
   "cell_type": "markdown",
   "id": "together-playing",
   "metadata": {},
   "source": [
    "> So `take` is similar to the `LIMIT` function in SQL. Notice that here our records are returned."
   ]
  },
  {
   "cell_type": "markdown",
   "id": "south-concept",
   "metadata": {},
   "source": [
    "* Count"
   ]
  },
  {
   "cell_type": "code",
   "execution_count": 29,
   "id": "musical-marks",
   "metadata": {},
   "outputs": [
    {
     "data": {
      "text/plain": [
       "4"
      ]
     },
     "execution_count": 29,
     "metadata": {},
     "output_type": "execute_result"
    }
   ],
   "source": [
    "movies_rdd.distinct().count()"
   ]
  },
  {
   "cell_type": "markdown",
   "id": "through-elder",
   "metadata": {},
   "source": [
    "Count simply counts the results."
   ]
  },
  {
   "cell_type": "markdown",
   "id": "legendary-myrtle",
   "metadata": {},
   "source": [
    "### Summary"
   ]
  },
  {
   "cell_type": "markdown",
   "id": "anonymous-treasurer",
   "metadata": {},
   "source": [
    "So we can see that, our actions have a bit of finality to them.  To get a better sense of the transformation and action functions, it's worth looking at the [documentation](https://spark.apache.org/docs/latest/rdd-programming-guide.html#transformations)."
   ]
  },
  {
   "cell_type": "markdown",
   "id": "opened-credit",
   "metadata": {},
   "source": [
    "### Resources"
   ]
  },
  {
   "cell_type": "markdown",
   "id": "recreational-sampling",
   "metadata": {},
   "source": [
    "[Berkley White Paper](https://www.usenix.org/system/files/conference/nsdi12/nsdi12-final138.pdf)\n",
    "\n",
    "[Pyspark RDD Methods blog](https://www.nbshare.io/notebook/403283317/How-To-Analyze-Data-Using-Pyspark-RDD/)\n",
    "\n",
    "\n",
    "[Databricks Debugging Spark Streaming](https://docs.databricks.com/spark/latest/rdd-streaming/debugging-streaming-applications.html)"
   ]
  }
 ],
 "metadata": {
  "kernelspec": {
   "display_name": "Python 3",
   "language": "python",
   "name": "python3"
  },
  "language_info": {
   "codemirror_mode": {
    "name": "ipython",
    "version": 3
   },
   "file_extension": ".py",
   "mimetype": "text/x-python",
   "name": "python",
   "nbconvert_exporter": "python",
   "pygments_lexer": "ipython3",
   "version": "3.8.6"
  }
 },
 "nbformat": 4,
 "nbformat_minor": 5
}
