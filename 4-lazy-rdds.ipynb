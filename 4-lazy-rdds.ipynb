{
 "cells": [
  {
   "cell_type": "markdown",
   "id": "italic-airport",
   "metadata": {},
   "source": [
    "# Efficient RDDs"
   ]
  },
  {
   "cell_type": "markdown",
   "id": "early-scientist",
   "metadata": {},
   "source": [
    "### Introduction"
   ]
  },
  {
   "cell_type": "markdown",
   "id": "patent-funeral",
   "metadata": {},
   "source": [
    "So we saw in the last lesson that Spark achieves fault tolerance by keeping a recording of the transformations needed to recreate our data.\n",
    "\n",
    "<img src=\"./filter_map.jpg\" width=\"40%\">"
   ]
  },
  {
   "cell_type": "markdown",
   "id": "acquired-convention",
   "metadata": {},
   "source": [
    "These steps are an example of a directed acyclic graph, because we go from one step to another to arrive at the resulting RDD.  It turns out that recording the steps needed to transform the data is useful not just for fault tolerance but because it allows Spark to determine efficient ways to perform the prescribed steps.  We'll learn more about how spark achieves this efficiency in this lesson."
   ]
  },
  {
   "cell_type": "markdown",
   "id": "excess-sharp",
   "metadata": {},
   "source": [
    "### Looking Under the Hood"
   ]
  },
  {
   "cell_type": "markdown",
   "id": "soviet-eating",
   "metadata": {},
   "source": [
    "Let's again connect to our spark cluster."
   ]
  },
  {
   "cell_type": "code",
   "execution_count": 2,
   "id": "northern-wallpaper",
   "metadata": {},
   "outputs": [],
   "source": [
    "from pyspark import SparkContext, SparkConf\n",
    "conf = SparkConf().setAppName(\"films\").setMaster(\"local[2]\")\n",
    "sc = SparkContext.getOrCreate(conf=conf)"
   ]
  },
  {
   "cell_type": "markdown",
   "id": "sufficient-google",
   "metadata": {},
   "source": [
    "And then, let's again create an RDD from our movie records."
   ]
  },
  {
   "cell_type": "code",
   "execution_count": 3,
   "id": "integral-morgan",
   "metadata": {},
   "outputs": [],
   "source": [
    "movies = ['dark knight', 'dunkirk', 'pulp fiction', 'avatar']"
   ]
  },
  {
   "cell_type": "code",
   "execution_count": 4,
   "id": "seven-edgar",
   "metadata": {},
   "outputs": [
    {
     "data": {
      "text/plain": [
       "ParallelCollectionRDD[0] at readRDDFromFile at PythonRDD.scala:274"
      ]
     },
     "execution_count": 4,
     "metadata": {},
     "output_type": "execute_result"
    }
   ],
   "source": [
    "movies_rdd = sc.parallelize(movies)\n",
    "movies_rdd"
   ]
  },
  {
   "cell_type": "markdown",
   "id": "opposed-daily",
   "metadata": {},
   "source": [
    "And then let's capitalize the movies, and select the movies that begin with `d`."
   ]
  },
  {
   "cell_type": "code",
   "execution_count": 5,
   "id": "endless-vatican",
   "metadata": {},
   "outputs": [
    {
     "data": {
      "text/plain": [
       "['Dark Knight', 'Dunkirk', 'Pulp Fiction', 'Avatar']"
      ]
     },
     "execution_count": 5,
     "metadata": {},
     "output_type": "execute_result"
    }
   ],
   "source": [
    "movies_rdd.map(lambda movie: movie.title()).collect()"
   ]
  },
  {
   "cell_type": "markdown",
   "id": "floral-trouble",
   "metadata": {},
   "source": [
    "Now as we know, Spark will partition the dataset across the cores of the executors, and then map through the records in parallel, returning all of the results."
   ]
  },
  {
   "cell_type": "markdown",
   "id": "right-luxury",
   "metadata": {},
   "source": [
    "> <img src=\"./parallel.png\" width=\"60%\">"
   ]
  },
  {
   "cell_type": "markdown",
   "id": "cooked-alexander",
   "metadata": {},
   "source": [
    "Now let's change the function so that this time, instead of returning all of the results, we just return the first result."
   ]
  },
  {
   "cell_type": "code",
   "execution_count": 7,
   "id": "prostate-morocco",
   "metadata": {},
   "outputs": [
    {
     "data": {
      "text/plain": [
       "['Dark Knight']"
      ]
     },
     "execution_count": 7,
     "metadata": {},
     "output_type": "execute_result"
    }
   ],
   "source": [
    "movies_rdd.map(lambda movie: movie.title()).take(1)"
   ]
  },
  {
   "cell_type": "markdown",
   "id": "dependent-nevada",
   "metadata": {},
   "source": [
    "Now if we think about, this previous step, here we would not have to map through all of the steps just to return a single result.  And it turns out if we look at Spark, we can see that even though the dataset was distributed -- it only needed to perform work on a single partition to return one result."
   ]
  },
  {
   "cell_type": "markdown",
   "id": "correct-horizon",
   "metadata": {},
   "source": [
    "> <img src=\"./individual_task.png\" width=\"80%\">"
   ]
  },
  {
   "cell_type": "markdown",
   "id": "stupid-toyota",
   "metadata": {},
   "source": [
    "This ability, to see the end result that needs to be returned, and to work efficiently to only take the needed steps to return those results, is a valuable feature when working with large datasets.  And we can better see how Spark accomplishes it in the next section."
   ]
  },
  {
   "cell_type": "markdown",
   "id": "inclusive-devon",
   "metadata": {},
   "source": [
    "### A little experiment"
   ]
  },
  {
   "cell_type": "markdown",
   "id": "adolescent-flower",
   "metadata": {},
   "source": [
    "If we run the code below, notice that nothing is returned."
   ]
  },
  {
   "cell_type": "code",
   "execution_count": 12,
   "id": "adopted-witness",
   "metadata": {},
   "outputs": [
    {
     "data": {
      "text/plain": [
       "PythonRDD[8] at RDD at PythonRDD.scala:53"
      ]
     },
     "execution_count": 12,
     "metadata": {},
     "output_type": "execute_result"
    }
   ],
   "source": [
    "movies_rdd.map(lambda movie: movie.title())"
   ]
  },
  {
   "cell_type": "markdown",
   "id": "elegant-grass",
   "metadata": {},
   "source": [
    "And even if we chain the map and the filter methods, still nothing is returned."
   ]
  },
  {
   "cell_type": "code",
   "execution_count": 8,
   "id": "amateur-halloween",
   "metadata": {},
   "outputs": [
    {
     "data": {
      "text/plain": [
       "PythonRDD[3] at RDD at PythonRDD.scala:53"
      ]
     },
     "execution_count": 8,
     "metadata": {},
     "output_type": "execute_result"
    }
   ],
   "source": [
    "movies_rdd.map(lambda movie: movie.title()).filter(lambda movie: movie[0] == 'd')"
   ]
  },
  {
   "cell_type": "markdown",
   "id": "immediate-television",
   "metadata": {},
   "source": [
    "It's only when we add a collect function on the end, will some data be returned."
   ]
  },
  {
   "cell_type": "code",
   "execution_count": 9,
   "id": "occupied-collectible",
   "metadata": {},
   "outputs": [
    {
     "data": {
      "text/plain": [
       "['Dark Knight', 'Dunkirk']"
      ]
     },
     "execution_count": 9,
     "metadata": {},
     "output_type": "execute_result"
    }
   ],
   "source": [
    "movies_rdd.filter(lambda movie: movie[0] == 'd').map(lambda movie: movie.title()).collect()"
   ]
  },
  {
   "cell_type": "markdown",
   "id": "enormous-deposit",
   "metadata": {},
   "source": [
    "So above, nothing was returned when we ran the `map` and `collect` functions, because when we only executed those functions, Spark did not actually act on the data.  Then in the third line we finally did act on the data.  We told Spark that we want to both transform, and filter the data, and then return all of the results.  \n",
    "\n",
    "So it's only when we called the `collect` function that Spark's driver determined the tasks to then send off to the executors and return the results."
   ]
  },
  {
   "cell_type": "markdown",
   "id": "subject-organ",
   "metadata": {},
   "source": [
    "### Transformations and Actions"
   ]
  },
  {
   "cell_type": "markdown",
   "id": "rough-opera",
   "metadata": {},
   "source": [
    "So above we can see that the functions `map` and `filter` do not actually perform any work on our data.  Instead steps are only kicked off when we call the `collect` method.  "
   ]
  },
  {
   "cell_type": "markdown",
   "id": "focal-maryland",
   "metadata": {},
   "source": [
    "In Spark, the methods that kick off tasks and return results are called **actions** (eg. collect).  And methods like `map` and `transform` that do not are called **transformations**.  "
   ]
  },
  {
   "cell_type": "markdown",
   "id": "prerequisite-career",
   "metadata": {},
   "source": [
    "1. Transformations"
   ]
  },
  {
   "cell_type": "markdown",
   "id": "grand-electricity",
   "metadata": {},
   "source": [
    "So we already saw that transformations include `map` and `filter`, and our transformations do not actually return results to our users.  Here's a couple other transformations."
   ]
  },
  {
   "cell_type": "markdown",
   "id": "private-replica",
   "metadata": {},
   "source": [
    "* sample"
   ]
  },
  {
   "cell_type": "markdown",
   "id": "cross-boring",
   "metadata": {},
   "source": [
    "The `sample` method allows us to take a random sample from our dataset.  "
   ]
  },
  {
   "cell_type": "code",
   "execution_count": 24,
   "id": "interim-smooth",
   "metadata": {},
   "outputs": [
    {
     "data": {
      "text/plain": [
       "PythonRDD[16] at RDD at PythonRDD.scala:53"
      ]
     },
     "execution_count": 24,
     "metadata": {},
     "output_type": "execute_result"
    }
   ],
   "source": [
    "movies_rdd.sample(fraction = .2, withReplacement = True)"
   ]
  },
  {
   "cell_type": "markdown",
   "id": "extraordinary-ferry",
   "metadata": {},
   "source": [
    "> Notice that it does not return any data."
   ]
  },
  {
   "cell_type": "markdown",
   "id": "contained-terminal",
   "metadata": {},
   "source": [
    "* distinct"
   ]
  },
  {
   "cell_type": "code",
   "execution_count": 12,
   "id": "variable-smoke",
   "metadata": {},
   "outputs": [
    {
     "data": {
      "text/plain": [
       "PythonRDD[14] at RDD at PythonRDD.scala:53"
      ]
     },
     "execution_count": 12,
     "metadata": {},
     "output_type": "execute_result"
    }
   ],
   "source": [
    "movies_rdd.distinct()"
   ]
  },
  {
   "cell_type": "markdown",
   "id": "athletic-pride",
   "metadata": {},
   "source": [
    "> Distinct finds the unique results.  Notice that it also does not return data."
   ]
  },
  {
   "cell_type": "markdown",
   "id": "ambient-jaguar",
   "metadata": {},
   "source": [
    "Finally, we have already seen `map`, which provides a one to one transformation of our records, and `select` which filters our data.  In each case, our transformations do not return data to us. "
   ]
  },
  {
   "cell_type": "markdown",
   "id": "green-direction",
   "metadata": {},
   "source": [
    "2. Actions"
   ]
  },
  {
   "cell_type": "markdown",
   "id": "disciplinary-somalia",
   "metadata": {},
   "source": [
    "Actions are a bit more about the end result.  So far we've learned about `collect`, which returns *all* of the results of a series of transformations.  \n",
    "\n",
    "* Take\n",
    "\n",
    "We've also seen `take`, which limits our results to a subset."
   ]
  },
  {
   "cell_type": "code",
   "execution_count": 27,
   "id": "copyrighted-revision",
   "metadata": {},
   "outputs": [
    {
     "data": {
      "text/plain": [
       "['dark knight', 'dunkirk']"
      ]
     },
     "execution_count": 27,
     "metadata": {},
     "output_type": "execute_result"
    }
   ],
   "source": [
    "movies_rdd.distinct().take(2)"
   ]
  },
  {
   "cell_type": "markdown",
   "id": "proprietary-sullivan",
   "metadata": {},
   "source": [
    "> So `take` is similar to the `LIMIT` function in SQL. Notice that here our records are returned."
   ]
  },
  {
   "cell_type": "markdown",
   "id": "floppy-rotation",
   "metadata": {},
   "source": [
    "* Count"
   ]
  },
  {
   "cell_type": "code",
   "execution_count": 29,
   "id": "single-little",
   "metadata": {},
   "outputs": [
    {
     "data": {
      "text/plain": [
       "4"
      ]
     },
     "execution_count": 29,
     "metadata": {},
     "output_type": "execute_result"
    }
   ],
   "source": [
    "movies_rdd.distinct().count()"
   ]
  },
  {
   "cell_type": "markdown",
   "id": "veterinary-discount",
   "metadata": {},
   "source": [
    "Count simply counts the results."
   ]
  },
  {
   "cell_type": "markdown",
   "id": "silver-howard",
   "metadata": {},
   "source": [
    "### Summary"
   ]
  },
  {
   "cell_type": "markdown",
   "id": "bigger-qatar",
   "metadata": {},
   "source": [
    "So we can see that, our actions have a bit of finality to them.  To get a better sense of the transformation and action functions, it's worth looking at the [documentation](https://spark.apache.org/docs/latest/rdd-programming-guide.html#transformations)."
   ]
  },
  {
   "cell_type": "markdown",
   "id": "distributed-roman",
   "metadata": {},
   "source": [
    "### Resources"
   ]
  },
  {
   "cell_type": "markdown",
   "id": "bottom-perfume",
   "metadata": {},
   "source": [
    "[Berkley White Paper](https://www.usenix.org/system/files/conference/nsdi12/nsdi12-final138.pdf)\n",
    "\n",
    "[Pyspark RDD Methods blog](https://www.nbshare.io/notebook/403283317/How-To-Analyze-Data-Using-Pyspark-RDD/)\n",
    "\n",
    "\n",
    "[Databricks Debugging Spark Streaming](https://docs.databricks.com/spark/latest/rdd-streaming/debugging-streaming-applications.html)"
   ]
  }
 ],
 "metadata": {
  "kernelspec": {
   "display_name": "Python 3",
   "language": "python",
   "name": "python3"
  },
  "language_info": {
   "codemirror_mode": {
    "name": "ipython",
    "version": 3
   },
   "file_extension": ".py",
   "mimetype": "text/x-python",
   "name": "python",
   "nbconvert_exporter": "python",
   "pygments_lexer": "ipython3",
   "version": "3.8.6"
  }
 },
 "nbformat": 4,
 "nbformat_minor": 5
}
