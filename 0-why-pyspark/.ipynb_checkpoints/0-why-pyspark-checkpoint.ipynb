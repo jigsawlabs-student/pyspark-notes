{
 "cells": [
  {
   "cell_type": "markdown",
   "id": "compatible-continuity",
   "metadata": {},
   "source": [
    "# Why Pyspark"
   ]
  },
  {
   "cell_type": "markdown",
   "id": "comprehensive-chaos",
   "metadata": {},
   "source": [
    "### The interface is pretty easy"
   ]
  },
  {
   "cell_type": "code",
   "execution_count": 7,
   "id": "amber-plate",
   "metadata": {},
   "outputs": [],
   "source": [
    "from pyspark.sql import SparkSession\n",
    "\n",
    "spark = SparkSession \\\n",
    "    .builder \\\n",
    "    .appName(\"Python Spark SQL basic example\") \\\n",
    "    .getOrCreate()"
   ]
  },
  {
   "cell_type": "code",
   "execution_count": 8,
   "id": "perceived-applicant",
   "metadata": {},
   "outputs": [],
   "source": [
    "url = \"./houston_claims.csv\""
   ]
  },
  {
   "cell_type": "code",
   "execution_count": 9,
   "id": "virtual-thinking",
   "metadata": {},
   "outputs": [],
   "source": [
    "claims_df = spark.read.format(\"csv\").csv(url, header = True, inferSchema = True)"
   ]
  },
  {
   "cell_type": "code",
   "execution_count": 10,
   "id": "failing-funds",
   "metadata": {},
   "outputs": [],
   "source": [
    "claims_df.createOrReplaceTempView(\"claims\")"
   ]
  },
  {
   "cell_type": "code",
   "execution_count": 12,
   "id": "legislative-cosmetic",
   "metadata": {},
   "outputs": [
    {
     "name": "stdout",
     "output_type": "stream",
     "text": [
      "-RECORD 0-----------------------------------------\n",
      " _c0                       | 602                  \n",
      " reportedCity              | HOUSTON              \n",
      " dateOfLoss                | 2015-05-25 20:00:00  \n",
      " elevatedBuildingIndicator | false                \n",
      " floodZone                 | X                    \n",
      " latitude                  | null                 \n",
      " longitude                 | null                 \n",
      " lowestFloodElevation      | null                 \n",
      " amountPaidOnBuildingClaim | 220562.65            \n",
      " amountPaidOnContentsClaim | 14487.95             \n",
      " yearofLoss                | 2014-12-31 19:00:00  \n",
      " reportedZipcode           | 77096                \n",
      " id                        | 5e398d6974cbd479f... \n",
      "-RECORD 1-----------------------------------------\n",
      " _c0                       | 603                  \n",
      " reportedCity              | HOUSTON              \n",
      " dateOfLoss                | 2017-08-25 20:00:00  \n",
      " elevatedBuildingIndicator | false                \n",
      " floodZone                 | X                    \n",
      " latitude                  | null                 \n",
      " longitude                 | null                 \n",
      " lowestFloodElevation      | null                 \n",
      " amountPaidOnBuildingClaim | 250000.0             \n",
      " amountPaidOnContentsClaim | 66945.22             \n",
      " yearofLoss                | 2016-12-31 19:00:00  \n",
      " reportedZipcode           | 77096                \n",
      " id                        | 5e398d6974cbd479f... \n",
      "\n"
     ]
    }
   ],
   "source": [
    "spark.sql(\"SELECT * FROM claims ORDER BY latitude LIMIT 2\").show(vertical = True)"
   ]
  },
  {
   "cell_type": "code",
   "execution_count": 13,
   "id": "yellow-alarm",
   "metadata": {},
   "outputs": [
    {
     "name": "stdout",
     "output_type": "stream",
     "text": [
      "root\n",
      " |-- _c0: integer (nullable = true)\n",
      " |-- reportedCity: string (nullable = true)\n",
      " |-- dateOfLoss: timestamp (nullable = true)\n",
      " |-- elevatedBuildingIndicator: boolean (nullable = true)\n",
      " |-- floodZone: string (nullable = true)\n",
      " |-- latitude: double (nullable = true)\n",
      " |-- longitude: double (nullable = true)\n",
      " |-- lowestFloodElevation: double (nullable = true)\n",
      " |-- amountPaidOnBuildingClaim: double (nullable = true)\n",
      " |-- amountPaidOnContentsClaim: double (nullable = true)\n",
      " |-- yearofLoss: timestamp (nullable = true)\n",
      " |-- reportedZipcode: integer (nullable = true)\n",
      " |-- id: string (nullable = true)\n",
      "\n"
     ]
    }
   ],
   "source": [
    "claims_df.printSchema()"
   ]
  },
  {
   "cell_type": "code",
   "execution_count": 11,
   "id": "induced-driver",
   "metadata": {},
   "outputs": [
    {
     "name": "stdout",
     "output_type": "stream",
     "text": [
      "-RECORD 0-----------------------------------------\n",
      " _c0                       | 0                    \n",
      " reportedCity              | HOUSTON              \n",
      " dateOfLoss                | 2017-08-26 20:00:00  \n",
      " elevatedBuildingIndicator | false                \n",
      " floodZone                 | X                    \n",
      " latitude                  | 29.7                 \n",
      " longitude                 | -95.5                \n",
      " lowestFloodElevation      | null                 \n",
      " amountPaidOnBuildingClaim | 195857.43            \n",
      " amountPaidOnContentsClaim | 0.0                  \n",
      " yearofLoss                | 2016-12-31 19:00:00  \n",
      " reportedZipcode           | 77096                \n",
      " id                        | 5e398d6774cbd479f... \n",
      "-RECORD 1-----------------------------------------\n",
      " _c0                       | 1                    \n",
      " reportedCity              | HOUSTON              \n",
      " dateOfLoss                | 2008-09-11 20:00:00  \n",
      " elevatedBuildingIndicator | false                \n",
      " floodZone                 | X                    \n",
      " latitude                  | 29.5                 \n",
      " longitude                 | -95.1                \n",
      " lowestFloodElevation      | null                 \n",
      " amountPaidOnBuildingClaim | 0.0                  \n",
      " amountPaidOnContentsClaim | 0.0                  \n",
      " yearofLoss                | 2007-12-31 19:00:00  \n",
      " reportedZipcode           | 77058                \n",
      " id                        | 5e398d6774cbd479f... \n",
      "-RECORD 2-----------------------------------------\n",
      " _c0                       | 2                    \n",
      " reportedCity              | HOUSTON              \n",
      " dateOfLoss                | 2004-06-28 20:00:00  \n",
      " elevatedBuildingIndicator | false                \n",
      " floodZone                 | X                    \n",
      " latitude                  | 29.8                 \n",
      " longitude                 | -95.6                \n",
      " lowestFloodElevation      | null                 \n",
      " amountPaidOnBuildingClaim | 1420.89              \n",
      " amountPaidOnContentsClaim | 0.0                  \n",
      " yearofLoss                | 2003-12-31 19:00:00  \n",
      " reportedZipcode           | 77042                \n",
      " id                        | 5e398d6774cbd479f... \n",
      "\n"
     ]
    }
   ],
   "source": [
    "spark.sql(\"SELECT * FROM claims LIMIT 3;\").show(vertical = True)"
   ]
  },
  {
   "cell_type": "markdown",
   "id": "differential-rebound",
   "metadata": {},
   "source": [
    "# Go under the hood"
   ]
  },
  {
   "cell_type": "markdown",
   "id": "southern-business",
   "metadata": {},
   "source": [
    "### Hardware"
   ]
  },
  {
   "cell_type": "markdown",
   "id": "early-tissue",
   "metadata": {},
   "source": [
    "<img src=\"./cpu.jpg\" width=\"40%\">"
   ]
  },
  {
   "cell_type": "markdown",
   "id": "oriented-conspiracy",
   "metadata": {},
   "source": [
    "### Postgres/Mysql/sqlite3"
   ]
  },
  {
   "cell_type": "markdown",
   "id": "distributed-conclusion",
   "metadata": {},
   "source": [
    "<img src=\"./postgres.jpg\" width=\"40%\">"
   ]
  },
  {
   "cell_type": "markdown",
   "id": "arranged-timber",
   "metadata": {},
   "source": [
    "### Pyspark"
   ]
  },
  {
   "cell_type": "markdown",
   "id": "attached-grounds",
   "metadata": {},
   "source": [
    "<img src=\"./pyspark-memory.jpg\" width=\"40%\">"
   ]
  },
  {
   "cell_type": "markdown",
   "id": "opposed-tender",
   "metadata": {},
   "source": [
    "1. Faster \n",
    "2. Memory"
   ]
  },
  {
   "cell_type": "code",
   "execution_count": null,
   "id": "consistent-giant",
   "metadata": {},
   "outputs": [],
   "source": []
  }
 ],
 "metadata": {
  "kernelspec": {
   "display_name": "Python 3",
   "language": "python",
   "name": "python3"
  },
  "language_info": {
   "codemirror_mode": {
    "name": "ipython",
    "version": 3
   },
   "file_extension": ".py",
   "mimetype": "text/x-python",
   "name": "python",
   "nbconvert_exporter": "python",
   "pygments_lexer": "ipython3",
   "version": "3.8.6"
  }
 },
 "nbformat": 4,
 "nbformat_minor": 5
}
