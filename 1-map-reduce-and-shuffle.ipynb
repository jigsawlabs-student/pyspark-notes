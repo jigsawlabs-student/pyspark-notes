{
 "cells": [
  {
   "cell_type": "markdown",
   "id": "electrical-cooking",
   "metadata": {},
   "source": [
    "# Map Reduce and Shuffling"
   ]
  },
  {
   "cell_type": "markdown",
   "id": "characteristic-cleaners",
   "metadata": {},
   "source": [
    "### Introduction"
   ]
  },
  {
   "cell_type": "markdown",
   "id": "planned-restoration",
   "metadata": {},
   "source": [
    "In the last lesson, we saw how with Pyspark, we can partition our dataset across the cores of our executor.  This allows us to process data in a dataset in parallel.  In this lesson, we'll take a closer look at how Spark performs these operations across both nodes and cores."
   ]
  },
  {
   "cell_type": "markdown",
   "id": "advisory-export",
   "metadata": {},
   "source": [
    "### Map Reduce in Pyspark"
   ]
  },
  {
   "cell_type": "markdown",
   "id": "floating-onion",
   "metadata": {},
   "source": [
    "Now let's take a deeper look at how Spark performs it's operations.  We'll once again begin by creating our Spark context."
   ]
  },
  {
   "cell_type": "code",
   "execution_count": 2,
   "id": "veterinary-announcement",
   "metadata": {},
   "outputs": [],
   "source": [
    "from pyspark import SparkContext, SparkConf\n",
    "conf = SparkConf().setAppName(\"films\").setMaster(\"local[2]\")\n",
    "sc = SparkContext.getOrCreate(conf=conf)"
   ]
  },
  {
   "cell_type": "markdown",
   "id": "powerful-soundtrack",
   "metadata": {},
   "source": [
    "And then we'll create our list of movies in Python."
   ]
  },
  {
   "cell_type": "code",
   "execution_count": 3,
   "id": "divine-logging",
   "metadata": {},
   "outputs": [],
   "source": [
    "movies = ['Shazam!', 'Minari', 'Captain Marvel', \n",
    "          'Pulp Fiction', 'Casablanca', 'Michael Clayton',\n",
    "          'Sicario']"
   ]
  },
  {
   "cell_type": "markdown",
   "id": "authorized-george",
   "metadata": {},
   "source": [
    "And from there turn it into an RDD."
   ]
  },
  {
   "cell_type": "code",
   "execution_count": 4,
   "id": "annual-grill",
   "metadata": {},
   "outputs": [],
   "source": [
    "rdd = sc.parallelize(movies, 4)"
   ]
  },
  {
   "cell_type": "markdown",
   "id": "bacterial-motion",
   "metadata": {},
   "source": [
    "Now, we haven't said so before but when we pass our data into spark using the `parellize` method, we create a resiliant distributed dataset -- a RDD."
   ]
  },
  {
   "cell_type": "code",
   "execution_count": 5,
   "id": "civilian-redhead",
   "metadata": {},
   "outputs": [
    {
     "data": {
      "text/plain": [
       "ParallelCollectionRDD[0] at readRDDFromFile at PythonRDD.scala:274"
      ]
     },
     "execution_count": 5,
     "metadata": {},
     "output_type": "execute_result"
    }
   ],
   "source": [
    "rdd"
   ]
  },
  {
   "cell_type": "markdown",
   "id": "secondary-principal",
   "metadata": {},
   "source": [
    "As we saw in previous lessons, an RDD is a dataset that is distributed across cores in our execeutor.  And as we know, if we say use a `filter` to look for the movie 'Michael Clayton' across the entire dataset, we perform this filter task four times across the cluster in parallel."
   ]
  },
  {
   "cell_type": "markdown",
   "id": "aerial-reliance",
   "metadata": {},
   "source": [
    "<img src=\"./map_red_cluster.jpg\" width=\"100%\">"
   ]
  },
  {
   "cell_type": "markdown",
   "id": "experienced-study",
   "metadata": {},
   "source": [
    "What we see from the diagram above is that we send this query to our driver, and then the driver instructs the executors to query their partition of the data."
   ]
  },
  {
   "cell_type": "markdown",
   "id": "laughing-exclusion",
   "metadata": {},
   "source": [
    "So each core finds the matching records in it's relevant partition and returns the matched records to the spark driver, which returns them to us."
   ]
  },
  {
   "cell_type": "code",
   "execution_count": 44,
   "id": "mexican-france",
   "metadata": {},
   "outputs": [
    {
     "data": {
      "text/plain": [
       "['Michael Clayton']"
      ]
     },
     "execution_count": 44,
     "metadata": {},
     "output_type": "execute_result"
    }
   ],
   "source": [
    "rdd.filter(lambda movie: movie =='Michael Clayton').collect()"
   ]
  },
  {
   "cell_type": "markdown",
   "id": "pretty-psychology",
   "metadata": {},
   "source": [
    "If we perform a `map` operation, as opposed to a `filter` essentially the same thing occurs."
   ]
  },
  {
   "cell_type": "code",
   "execution_count": 45,
   "id": "helpful-tender",
   "metadata": {},
   "outputs": [
    {
     "data": {
      "text/plain": [
       "['SHAZAM!',\n",
       " 'MINARI',\n",
       " 'CAPTAIN MARVEL',\n",
       " 'PULP FICTION',\n",
       " 'CASABLANCA',\n",
       " 'MICHAEL CLAYTON',\n",
       " 'SICARIO']"
      ]
     },
     "execution_count": 45,
     "metadata": {},
     "output_type": "execute_result"
    }
   ],
   "source": [
    "rdd.map(lambda movie: movie.upper()).collect()"
   ]
  },
  {
   "cell_type": "markdown",
   "id": "humanitarian-spiritual",
   "metadata": {},
   "source": [
    "For example, above, we are capitalizing our data across four parts of our dataset simultaneously, and then gathering the sending the results from each partition to our driver, where our driver then sends the results back to us."
   ]
  },
  {
   "cell_type": "markdown",
   "id": "purple-pension",
   "metadata": {},
   "source": [
    "> This process of having each partition performing the same operation, and then combining the results is called `map reduce`.  "
   ]
  },
  {
   "cell_type": "markdown",
   "id": "bored-treasurer",
   "metadata": {},
   "source": [
    "### Shuffling"
   ]
  },
  {
   "cell_type": "markdown",
   "id": "adolescent-inquiry",
   "metadata": {},
   "source": [
    "Now one thing we should be aware when when performing our distributed operations is shuffling.  Shuffling occurs when an operation requires us to send our data across partitions to successfully perform a query.  Because this transmission of data can require sending data across worker nodes, it is often a time intensive.\n",
    "\n",
    "So now let's talk about some operations that can cause shuffling.  Oftentimes, shuffling occurs when we need to perform a group by.  \n",
    "\n",
    "For example, let's say we have an RDD consisting of a list of movies, partitioned across cluster like so."
   ]
  },
  {
   "cell_type": "markdown",
   "id": "furnished-milan",
   "metadata": {},
   "source": [
    "* Partition 1\n",
    "    * Shazam!\n",
    "    * Minari\n",
    "* Partition 2\n",
    "    * Captain Marvel\n",
    "    * Pulp Fiction\n",
    "* Partition 3\n",
    "    * Casablanca\n",
    "    * Michael Clayton\n",
    "* Partition 4\n",
    "    * Sicario"
   ]
  },
  {
   "cell_type": "markdown",
   "id": "sustainable-bloom",
   "metadata": {},
   "source": [
    "So above is our distributed dataset, and now let's say our query is to group the movies together by their first letter.  Because some of the records we want grouped together start off on different nodes, this grouping will require sending some movies from one worker node to another so that they can reside together."
   ]
  },
  {
   "cell_type": "markdown",
   "id": "united-frederick",
   "metadata": {},
   "source": [
    "> For example, above we can see that to group movies with the letter m together, we need to collect movies `Minari` and `Michael Clayton` across the first and third partitions, and then group them together. "
   ]
  },
  {
   "cell_type": "code",
   "execution_count": 46,
   "id": "regional-quantum",
   "metadata": {},
   "outputs": [],
   "source": [
    "grouped_rdd = rdd.groupBy(lambda movie: movie[0]).map(lambda x : (x[0], list(x[1])))"
   ]
  },
  {
   "cell_type": "code",
   "execution_count": 47,
   "id": "emerging-honolulu",
   "metadata": {},
   "outputs": [
    {
     "data": {
      "text/plain": [
       "[('M', ['Minari', 'Michael Clayton']),\n",
       " ('S', ['Shazam!', 'Sicario']),\n",
       " ('C', ['Captain Marvel', 'Casablanca']),\n",
       " ('P', ['Pulp Fiction'])]"
      ]
     },
     "execution_count": 47,
     "metadata": {},
     "output_type": "execute_result"
    }
   ],
   "source": [
    "grouped_rdd.collect()"
   ]
  },
  {
   "cell_type": "markdown",
   "id": "knowing-palestinian",
   "metadata": {},
   "source": [
    "### Looking under the hood"
   ]
  },
  {
   "cell_type": "markdown",
   "id": "boxed-diesel",
   "metadata": {},
   "source": [
    "Now we can get see some of these operations in action by looking at the Spark UI.  So let's reference our spark context and click on the link to the Spark UI."
   ]
  },
  {
   "cell_type": "code",
   "execution_count": 48,
   "id": "visible-routine",
   "metadata": {},
   "outputs": [
    {
     "data": {
      "text/html": [
       "\n",
       "        <div>\n",
       "            <p><b>SparkContext</b></p>\n",
       "\n",
       "            <p><a href=\"http://jeffreys-air.home:4041\">Spark UI</a></p>\n",
       "\n",
       "            <dl>\n",
       "              <dt>Version</dt>\n",
       "                <dd><code>v3.1.1</code></dd>\n",
       "              <dt>Master</dt>\n",
       "                <dd><code>local[2]</code></dd>\n",
       "              <dt>AppName</dt>\n",
       "                <dd><code>films</code></dd>\n",
       "            </dl>\n",
       "        </div>\n",
       "        "
      ],
      "text/plain": [
       "<SparkContext master=local[2] appName=films>"
      ]
     },
     "execution_count": 48,
     "metadata": {},
     "output_type": "execute_result"
    }
   ],
   "source": [
    "sc"
   ]
  },
  {
   "cell_type": "markdown",
   "id": "little-playing",
   "metadata": {},
   "source": [
    "And then if we click on the Spark UI link, we'll see something like the following. "
   ]
  },
  {
   "cell_type": "markdown",
   "id": "female-staff",
   "metadata": {},
   "source": [
    "> <img src=\"./completed_jobs.png\" width=\"60%\">"
   ]
  },
  {
   "cell_type": "markdown",
   "id": "external-variance",
   "metadata": {},
   "source": [
    "So we can see that we have completed three jobs so far -- one for our `filter`, one for our `map`, and one for our `groupby`.  Now let's scroll down so we can begin to see more details about one of these jobs."
   ]
  },
  {
   "cell_type": "markdown",
   "id": "constitutional-worcester",
   "metadata": {},
   "source": [
    "<img src=\"./jobs.png\" width=\"100%\">"
   ]
  },
  {
   "cell_type": "markdown",
   "id": "charming-participant",
   "metadata": {},
   "source": [
    "The jobs are listed in reverse order - meaning that our most recent job is listed as job id 2, at the top of the list.  This was our group by job.  \n",
    "\n",
    "We can click on the blue link to see more details about the job."
   ]
  },
  {
   "cell_type": "markdown",
   "id": "ranking-arrest",
   "metadata": {},
   "source": [
    "> <img src=\"./staged_group_by.png\" width=\"60%\">"
   ]
  },
  {
   "cell_type": "markdown",
   "id": "certified-rebate",
   "metadata": {},
   "source": [
    "So if we click the drop down for `Dag visualization`, we can see a little bit more about what occurred in the job.  Let's look at Stage 2.  Stage 2 says `parallelize` -- telling us it involved running a task in parallel.  Then if we look at the below table to `Stage Id 2`, we can see that this parallel task involved our group by.  \n",
    "\n",
    "Ok, now let's click on the stage 2 box to see a little more details about this stage."
   ]
  },
  {
   "cell_type": "markdown",
   "id": "thick-tension",
   "metadata": {},
   "source": [
    "<img src=\"./group_by_task.png\" width=\"40%\">"
   ]
  },
  {
   "cell_type": "markdown",
   "id": "cubic-eagle",
   "metadata": {},
   "source": [
    "So here we can see that the first task in this stage is to read in the RDD.  And then the next task is to perform the group by.  If we scroll further down, we can see that it's in this stage that the shuffling occurs."
   ]
  },
  {
   "cell_type": "markdown",
   "id": "automated-plane",
   "metadata": {},
   "source": [
    "<img src=\"./shuffling.png\" width=\"100%\">"
   ]
  },
  {
   "cell_type": "markdown",
   "id": "noble-lottery",
   "metadata": {},
   "source": [
    "The light green in the chart above is for the compute time -- searching through and querying the collection.  And the light yellow describes shuffling write time, so this is where we can see that the shuffling occur, when our dataset is reorganized by the first letter.  \n",
    "\n",
    "> The shuffle time is relatively small here as all partitions are located on our local computer."
   ]
  },
  {
   "cell_type": "markdown",
   "id": "insured-console",
   "metadata": {},
   "source": [
    "Remember that our job comes from the following code.  So the groupby seems to have occurred in Stage 2."
   ]
  },
  {
   "cell_type": "code",
   "execution_count": 53,
   "id": "speaking-swing",
   "metadata": {},
   "outputs": [
    {
     "data": {
      "text/plain": [
       "[('M', <pyspark.resultiterable.ResultIterable at 0x10a4b0a30>),\n",
       " ('S', <pyspark.resultiterable.ResultIterable at 0x10a583550>),\n",
       " ('C', <pyspark.resultiterable.ResultIterable at 0x10a583130>),\n",
       " ('P', <pyspark.resultiterable.ResultIterable at 0x10a5834c0>)]"
      ]
     },
     "execution_count": 53,
     "metadata": {},
     "output_type": "execute_result"
    }
   ],
   "source": [
    "rdd.groupBy(lambda movie: movie[0]).collect()"
   ]
  },
  {
   "cell_type": "markdown",
   "id": "alert-indianapolis",
   "metadata": {},
   "source": [
    "* map statement"
   ]
  },
  {
   "cell_type": "markdown",
   "id": "informational-pantyhose",
   "metadata": {},
   "source": [
    "And now that would leave the `map` for stage 3.  So let's take a look at that."
   ]
  },
  {
   "cell_type": "code",
   "execution_count": 54,
   "id": "integral-symposium",
   "metadata": {},
   "outputs": [
    {
     "data": {
      "text/plain": [
       "[('M', ['Minari', 'Michael Clayton']),\n",
       " ('S', ['Shazam!', 'Sicario']),\n",
       " ('C', ['Captain Marvel', 'Casablanca']),\n",
       " ('P', ['Pulp Fiction'])]"
      ]
     },
     "execution_count": 54,
     "metadata": {},
     "output_type": "execute_result"
    }
   ],
   "source": [
    "rdd.groupBy(lambda movie: movie[0]).map(lambda x : (x[0], list(x[1]))).collect()"
   ]
  },
  {
   "cell_type": "markdown",
   "id": "upset-canada",
   "metadata": {},
   "source": [
    "So we can see these last steps represented if we click on stage 3."
   ]
  },
  {
   "cell_type": "markdown",
   "id": "ready-quick",
   "metadata": {},
   "source": [
    "<img src=\"./shuffled_rdd.png\" width=\"40%\">"
   ]
  },
  {
   "cell_type": "markdown",
   "id": "recreational-flash",
   "metadata": {},
   "source": [
    "Above we can see that we started with our shuffled rdd from the previous stage."
   ]
  },
  {
   "cell_type": "code",
   "execution_count": 49,
   "id": "exclusive-activity",
   "metadata": {},
   "outputs": [
    {
     "data": {
      "text/plain": [
       "[('M', <pyspark.resultiterable.ResultIterable at 0x10a583a90>),\n",
       " ('S', <pyspark.resultiterable.ResultIterable at 0x10a620730>),\n",
       " ('C', <pyspark.resultiterable.ResultIterable at 0x10a6207c0>),\n",
       " ('P', <pyspark.resultiterable.ResultIterable at 0x10a620850>)]"
      ]
     },
     "execution_count": 49,
     "metadata": {},
     "output_type": "execute_result"
    }
   ],
   "source": [
    "rdd.groupBy(lambda movie: movie[0]).collect()"
   ]
  },
  {
   "cell_type": "markdown",
   "id": "color-array",
   "metadata": {},
   "source": [
    "And then the next step was our map statement.  And finally the last step was the collect which resulted in Python code."
   ]
  },
  {
   "cell_type": "code",
   "execution_count": 51,
   "id": "intense-giving",
   "metadata": {},
   "outputs": [
    {
     "data": {
      "text/plain": [
       "[('M', ['Minari', 'Michael Clayton']),\n",
       " ('S', ['Shazam!', 'Sicario']),\n",
       " ('C', ['Captain Marvel', 'Casablanca']),\n",
       " ('P', ['Pulp Fiction'])]"
      ]
     },
     "execution_count": 51,
     "metadata": {},
     "output_type": "execute_result"
    }
   ],
   "source": [
    "rdd.groupBy(lambda movie: movie[0]).map(lambda x : (x[0], list(x[1]))).collect()"
   ]
  },
  {
   "cell_type": "markdown",
   "id": "convinced-software",
   "metadata": {},
   "source": [
    "* Understanding Map partitions"
   ]
  },
  {
   "cell_type": "markdown",
   "id": "domestic-wisdom",
   "metadata": {},
   "source": [
    "Notice that the task in the middle was called map partitions.  As we look at our Spark UI, we'll tend to see this a lot.  Map partitions is quite similar to map.  But map will execute our code one time for each record.  So if we have 2,000 records our related code will be called 2000 times.  With map partitions, the function is called only once per partition.  so if those 2,000 records are divided into 20 partitions, then the related function is only called 20 times.  This is more efficient call.  And it's for this reason that spark will translate our functions into map partitions under the hood."
   ]
  },
  {
   "cell_type": "markdown",
   "id": "downtown-italy",
   "metadata": {},
   "source": [
    "### Summary"
   ]
  },
  {
   "cell_type": "markdown",
   "id": "sound-contents",
   "metadata": {},
   "source": [
    "In this lesson, we learned about Spark performs map reduce, operations that result in shuffling, and how to see these steps using the Spark UI.  We saw that by partitioning our dataset, Spark operations like filter and map across all partitions simultaneously.  And we also saw that one thing to be careful of is shuffling, which occurs when Spark needs to repartition the data to perform the operation.  This often happens with a group by operation.  Shuffling can be expensive because it can require sending data across different nodes in the cluster.\n",
    "\n",
    "We also learned about map partition which is similar to map.  The difference is that instead of performing an opeeration for each record, with map partition Spark performs an operation once per partition, which is faster."
   ]
  },
  {
   "cell_type": "markdown",
   "id": "informal-working",
   "metadata": {},
   "source": [
    "### Resources\n",
    "\n",
    "[Shuffling Documentation](https://spark.apache.org/docs/latest/rdd-programming-guide.html#shuffle-operations)\n",
    "\n",
    "[5 hour pyspark tutorial](https://www.youtube.com/watch?v=GFC2gOL1p9k&t=2743s)\n",
    "\n",
    "[Map vs Map Partition](https://sparkbyexamples.com/spark/spark-map-vs-mappartitions-transformation/)\n",
    "\n",
    "[Group by key](https://backtobazics.com/big-data/spark/apache-spark-groupbykey-example/)\n",
    "\n",
    "[Pyspark Google Colab](https://www.analyticsvidhya.com/blog/2020/11/a-must-read-guide-on-how-to-work-with-pyspark-on-google-colab-for-data-scientists/)"
   ]
  }
 ],
 "metadata": {
  "kernelspec": {
   "display_name": "Python 3",
   "language": "python",
   "name": "python3"
  },
  "language_info": {
   "codemirror_mode": {
    "name": "ipython",
    "version": 3
   },
   "file_extension": ".py",
   "mimetype": "text/x-python",
   "name": "python",
   "nbconvert_exporter": "python",
   "pygments_lexer": "ipython3",
   "version": "3.8.6"
  }
 },
 "nbformat": 4,
 "nbformat_minor": 5
}
